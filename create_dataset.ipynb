{
 "cells": [
  {
   "cell_type": "code",
   "execution_count": 1,
   "metadata": {},
   "outputs": [],
   "source": [
    "%load_ext autoreload\n",
    "%autoreload 2"
   ]
  },
  {
   "cell_type": "code",
   "execution_count": 2,
   "metadata": {},
   "outputs": [
    {
     "name": "stderr",
     "output_type": "stream",
     "text": [
      "/cis/home/charr165/vscode_projects/cog-bias-med-LLMs/.venv/lib/python3.10/site-packages/tqdm/auto.py:21: TqdmWarning: IProgress not found. Please update jupyter and ipywidgets. See https://ipywidgets.readthedocs.io/en/stable/user_install.html\n",
      "  from .autonotebook import tqdm as notebook_tqdm\n"
     ]
    }
   ],
   "source": [
    "from med_llm_bias import *"
   ]
  },
  {
   "cell_type": "code",
   "execution_count": 3,
   "metadata": {},
   "outputs": [],
   "source": [
    "import os\n",
    "import time\n",
    "import re\n",
    "import numpy as np\n",
    "from models import llm_model\n",
    "from tqdm import tqdm\n",
    "from med_llm_bias import *"
   ]
  },
  {
   "cell_type": "code",
   "execution_count": 4,
   "metadata": {},
   "outputs": [],
   "source": [
    "def generate_prompt_dataset(bias_type, mitigation_strategy, question_set):\n",
    "    questions = load_usmle_questions(question_set=question_set)\n",
    "    q_proc = USMLEQuestionProcessor(None, bias_type=bias_type, mitigation_strategy=mitigation_strategy)\n",
    "\n",
    "    if mitigation_strategy is None:\n",
    "        mitigation_strategy = \"no-mitigation\"\n",
    "\n",
    "    out_folder = f\"biased_data/prompts/{bias_type}/{mitigation_strategy}/{question_set}\"\n",
    "\n",
    "    if not os.path.exists(out_folder):\n",
    "        os.makedirs(out_folder)\n",
    "\n",
    "    for i, q in enumerate(questions):\n",
    "        prompt, info = q_proc.generate_full_prompt(q)\n",
    "        out_file = f\"bias_{bias_type}_{mitigation_strategy}_{question_set}_{i}.txt\"\n",
    "\n",
    "        # Write to file\n",
    "        out_file = os.path.join(out_folder, out_file)\n",
    "        with open(out_file, 'w') as fout:\n",
    "            fout.write(prompt)"
   ]
  },
  {
   "cell_type": "code",
   "execution_count": 5,
   "metadata": {},
   "outputs": [
    {
     "name": "stdout",
     "output_type": "stream",
     "text": [
      "Generated prompts for self_diagnosis, None, train\n",
      "Generated prompts for self_diagnosis, None, test\n",
      "Generated prompts for self_diagnosis, None, dev\n",
      "Generated prompts for self_diagnosis, education, train\n",
      "Generated prompts for self_diagnosis, education, test\n",
      "Generated prompts for self_diagnosis, education, dev\n",
      "Generated prompts for self_diagnosis, one-shot, train\n",
      "Generated prompts for self_diagnosis, one-shot, test\n",
      "Generated prompts for self_diagnosis, one-shot, dev\n",
      "Generated prompts for self_diagnosis, few-shot, train\n",
      "Generated prompts for self_diagnosis, few-shot, test\n",
      "Generated prompts for self_diagnosis, few-shot, dev\n",
      "Generated prompts for recency, None, train\n",
      "Generated prompts for recency, None, test\n",
      "Generated prompts for recency, None, dev\n",
      "Generated prompts for recency, education, train\n",
      "Generated prompts for recency, education, test\n",
      "Generated prompts for recency, education, dev\n",
      "Generated prompts for recency, one-shot, train\n",
      "Generated prompts for recency, one-shot, test\n",
      "Generated prompts for recency, one-shot, dev\n",
      "Generated prompts for recency, few-shot, train\n",
      "Generated prompts for recency, few-shot, test\n",
      "Generated prompts for recency, few-shot, dev\n",
      "Generated prompts for confirmation, None, train\n",
      "Generated prompts for confirmation, None, test\n",
      "Generated prompts for confirmation, None, dev\n",
      "Generated prompts for confirmation, education, train\n",
      "Generated prompts for confirmation, education, test\n",
      "Generated prompts for confirmation, education, dev\n",
      "Generated prompts for confirmation, one-shot, train\n",
      "Generated prompts for confirmation, one-shot, test\n",
      "Generated prompts for confirmation, one-shot, dev\n",
      "Generated prompts for confirmation, few-shot, train\n",
      "Generated prompts for confirmation, few-shot, test\n",
      "Generated prompts for confirmation, few-shot, dev\n",
      "Generated prompts for frequency, None, train\n",
      "Generated prompts for frequency, None, test\n",
      "Generated prompts for frequency, None, dev\n",
      "Generated prompts for frequency, education, train\n",
      "Generated prompts for frequency, education, test\n",
      "Generated prompts for frequency, education, dev\n",
      "Generated prompts for frequency, one-shot, train\n",
      "Generated prompts for frequency, one-shot, test\n",
      "Generated prompts for frequency, one-shot, dev\n",
      "Generated prompts for frequency, few-shot, train\n",
      "Generated prompts for frequency, few-shot, test\n",
      "Generated prompts for frequency, few-shot, dev\n",
      "Generated prompts for cultural, None, train\n",
      "Generated prompts for cultural, None, test\n",
      "Generated prompts for cultural, None, dev\n",
      "Generated prompts for cultural, education, train\n",
      "Generated prompts for cultural, education, test\n",
      "Generated prompts for cultural, education, dev\n",
      "Generated prompts for cultural, one-shot, train\n",
      "Generated prompts for cultural, one-shot, test\n",
      "Generated prompts for cultural, one-shot, dev\n",
      "Generated prompts for cultural, few-shot, train\n",
      "Generated prompts for cultural, few-shot, test\n",
      "Generated prompts for cultural, few-shot, dev\n",
      "Generated prompts for status_quo, None, train\n",
      "Generated prompts for status_quo, None, test\n",
      "Generated prompts for status_quo, None, dev\n",
      "Generated prompts for status_quo, education, train\n",
      "Generated prompts for status_quo, education, test\n",
      "Generated prompts for status_quo, education, dev\n",
      "Generated prompts for status_quo, one-shot, train\n",
      "Generated prompts for status_quo, one-shot, test\n",
      "Generated prompts for status_quo, one-shot, dev\n",
      "Generated prompts for status_quo, few-shot, train\n",
      "Generated prompts for status_quo, few-shot, test\n",
      "Generated prompts for status_quo, few-shot, dev\n",
      "Generated prompts for false_consensus, None, train\n",
      "Generated prompts for false_consensus, None, test\n",
      "Generated prompts for false_consensus, None, dev\n",
      "Generated prompts for false_consensus, education, train\n",
      "Generated prompts for false_consensus, education, test\n",
      "Generated prompts for false_consensus, education, dev\n",
      "Generated prompts for false_consensus, one-shot, train\n",
      "Generated prompts for false_consensus, one-shot, test\n",
      "Generated prompts for false_consensus, one-shot, dev\n",
      "Generated prompts for false_consensus, few-shot, train\n",
      "Generated prompts for false_consensus, few-shot, test\n",
      "Generated prompts for false_consensus, few-shot, dev\n"
     ]
    }
   ],
   "source": [
    "biases = [\"self_diagnosis\", \"recency\", \"confirmation\", \"frequency\", \"cultural\",  \"status_quo\", \"false_consensus\"]\n",
    "mitigation_strategies = [None, \"education\", \"one-shot\", \"few-shot\" ]\n",
    "\n",
    "for bias_type in biases:\n",
    "    for mitigation_strategy in mitigation_strategies:\n",
    "        for question_set in [\"train\", \"test\", \"dev\"]:\n",
    "            generate_prompt_dataset(bias_type, mitigation_strategy, question_set)\n",
    "            print(f\"Generated prompts for {bias_type}, {mitigation_strategy}, {question_set}\")"
   ]
  },
  {
   "cell_type": "code",
   "execution_count": 6,
   "metadata": {},
   "outputs": [
    {
     "name": "stdout",
     "output_type": "stream",
     "text": [
      "Generated json for self_diagnosis, train\n",
      "Generated json for self_diagnosis, test\n",
      "Generated json for self_diagnosis, dev\n",
      "Generated json for recency, train\n",
      "Generated json for recency, test\n",
      "Generated json for recency, dev\n",
      "Generated json for confirmation, train\n",
      "Generated json for confirmation, test\n",
      "Generated json for confirmation, dev\n",
      "Generated json for frequency, train\n",
      "Generated json for frequency, test\n",
      "Generated json for frequency, dev\n",
      "Generated json for cultural, train\n",
      "Generated json for cultural, test\n",
      "Generated json for cultural, dev\n",
      "Generated json for status_quo, train\n",
      "Generated json for status_quo, test\n",
      "Generated json for status_quo, dev\n",
      "Generated json for false_consensus, train\n",
      "Generated json for false_consensus, test\n",
      "Generated json for false_consensus, dev\n"
     ]
    }
   ],
   "source": [
    "def generate_json_dataset(bias_type, question_set):\n",
    "    questions = load_usmle_questions(question_set=question_set)\n",
    "    q_proc = USMLEQuestionProcessor(None, bias_type=bias_type, mitigation_strategy=None)\n",
    "\n",
    "    all_qs = []\n",
    "    for q in questions:\n",
    "        prompt, info = q_proc.generate_full_prompt(q)\n",
    "        all_qs.append(info)\n",
    "\n",
    "    out_folder = f\"biased_data/json/{bias_type}\"\n",
    "    out_file = f\"bias_{bias_type}_{question_set}.json\"\n",
    "\n",
    "    if not os.path.exists(out_folder):\n",
    "        os.makedirs(out_folder)\n",
    "\n",
    "    out_file = os.path.join(out_folder, out_file)\n",
    "    with open(out_file, 'w') as fout:\n",
    "        json.dump(all_qs , fout)\n",
    "\n",
    "for bias_type in biases:\n",
    "    for question_set in [\"train\", \"test\", \"dev\"]:\n",
    "        generate_json_dataset(bias_type, question_set)\n",
    "        print(f\"Generated json for {bias_type}, {question_set}\")"
   ]
  },
  {
   "cell_type": "markdown",
   "metadata": {},
   "source": [
    "biased_data/[bias]/[mitigation]/[bias]_[mitigation]_[train/test/val/all].json\n",
    "biased_data/[bias]/[bias]_[mitigation]_[train/test/val/all].json"
   ]
  }
 ],
 "metadata": {
  "kernelspec": {
   "display_name": ".venv",
   "language": "python",
   "name": "python3"
  },
  "language_info": {
   "codemirror_mode": {
    "name": "ipython",
    "version": 3
   },
   "file_extension": ".py",
   "mimetype": "text/x-python",
   "name": "python",
   "nbconvert_exporter": "python",
   "pygments_lexer": "ipython3",
   "version": "3.10.12"
  }
 },
 "nbformat": 4,
 "nbformat_minor": 2
}
