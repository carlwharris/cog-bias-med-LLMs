{
 "cells": [
  {
   "cell_type": "code",
   "execution_count": 9,
   "metadata": {},
   "outputs": [
    {
     "name": "stdout",
     "output_type": "stream",
     "text": [
      "                              No bias  Self-diagnosis  Recency  Confirmation  \\\n",
      "gpt-4-0613                      0.727           0.698    0.679         0.725   \n",
      "mixtral-8x7b-instruct-v0.1      0.518           0.460    0.455         0.497   \n",
      "gpt-3.5-turbo-0613              0.497           0.288    0.333         0.407   \n",
      "text-bison-001 (PaLM-2 text)    0.429           0.322    0.232         0.318   \n",
      "llama-2-70B-chat                0.357           0.169    0.141         0.177   \n",
      "pmc-llama-13b                   0.334           0.197    0.247         0.250   \n",
      "\n",
      "                              Frequency  Cultural  Status quo  False consensus  \n",
      "gpt-4-0613                        0.627     0.681       0.679            0.000  \n",
      "mixtral-8x7b-instruct-v0.1        0.373     0.421       0.445            0.428  \n",
      "gpt-3.5-turbo-0613                0.274     0.277       0.361            0.239  \n",
      "text-bison-001 (PaLM-2 text)      0.167     0.231       0.220            0.213  \n",
      "llama-2-70B-chat                  0.104     0.207       0.160            0.139  \n",
      "pmc-llama-13b                     0.224     0.278       0.290            0.155  \n",
      "                              No bias  Self-diagnosis  Recency  Confirmation  \\\n",
      "gpt-4-0613                        0.5           0.500    0.500         0.500   \n",
      "mixtral-8x7b-instruct-v0.1        0.0           0.460    0.455         0.497   \n",
      "gpt-3.5-turbo-0613                0.0           0.288    0.333         0.407   \n",
      "text-bison-001 (PaLM-2 text)      0.0           0.322    0.232         0.318   \n",
      "llama-2-70B-chat                  0.0           0.169    0.141         0.177   \n",
      "pmc-llama-13b                     0.0           0.197    0.247         0.250   \n",
      "\n",
      "                              Frequency  Cultural  Status quo  False consensus  \n",
      "gpt-4-0613                        0.500     0.500       0.500            0.500  \n",
      "mixtral-8x7b-instruct-v0.1        0.373     0.421       0.445            0.428  \n",
      "gpt-3.5-turbo-0613                0.274     0.277       0.361            0.239  \n",
      "text-bison-001 (PaLM-2 text)      0.167     0.231       0.220            0.213  \n",
      "llama-2-70B-chat                  0.104     0.207       0.160            0.139  \n",
      "pmc-llama-13b                     0.224     0.278       0.290            0.155  \n"
     ]
    }
   ],
   "source": [
    "import pandas as pd\n",
    "\n",
    "\n",
    "# Index for the DataFrame\n",
    "index = [ \"gpt-4-0613\", \"mixtral-8x7b-instruct-v0.1\", \"gpt-3.5-turbo-0613\",\n",
    "          \"text-bison-001 (PaLM-2 text)\", \"llama-2-70B-chat\", \"pmc-llama-13b\"]\n",
    "\n",
    "data = {\n",
    "    \"No bias\":          [0.727, 0.518, 0.497, 0.429, 0.357, 0.334],\n",
    "    \"Self-diagnosis\":   [0.698, 0.460, 0.288, 0.322, 0.169, 0.197],\n",
    "    \"Recency\":          [0.679, 0.455, 0.333, 0.232, 0.141, 0.247],\n",
    "    \"Confirmation\":     [0.725, 0.497, 0.407, 0.318, 0.177, 0.250],\n",
    "    \"Frequency\":        [0.627, 0.373, 0.274, 0.167, 0.104, 0.224],\n",
    "    \"Cultural\":         [0.681, 0.421, 0.277, 0.231, 0.207, 0.278],\n",
    "    \"Status quo\":       [0.679, 0.445, 0.361, 0.220, 0.160, 0.290],\n",
    "    \"False consensus\":  [0.000, 0.428, 0.239, 0.213, 0.139, 0.155]\n",
    "}\n",
    "\n",
    "# Creating the DataFrame\n",
    "no_mitigation_df = pd.DataFrame(data, index=index)\n",
    "print(no_mitigation_df)\n",
    "\n",
    "data = {\n",
    "    \"No bias\":          [0.500, 0.000, 0.000, 0.000, 0.000, 0.000],\n",
    "    \"Self-diagnosis\":   [0.500, 0.460, 0.288, 0.322, 0.169, 0.197],\n",
    "    \"Recency\":          [0.500, 0.455, 0.333, 0.232, 0.141, 0.247],\n",
    "    \"Confirmation\":     [0.500, 0.497, 0.407, 0.318, 0.177, 0.250],\n",
    "    \"Frequency\":        [0.500, 0.373, 0.274, 0.167, 0.104, 0.224],\n",
    "    \"Cultural\":         [0.500, 0.421, 0.277, 0.231, 0.207, 0.278],\n",
    "    \"Status quo\":       [0.500, 0.445, 0.361, 0.220, 0.160, 0.290],\n",
    "    \"False consensus\":  [0.500, 0.428, 0.239, 0.213, 0.139, 0.155]\n",
    "}\n",
    "\n",
    "mitigation_df = pd.DataFrame(data, index=index)\n",
    "print(mitigation_df)"
   ]
  },
  {
   "cell_type": "code",
   "execution_count": 4,
   "metadata": {},
   "outputs": [],
   "source": [
    "def query_results_df(results_df, model):\n",
    "    curr_model = results_df.loc[model]\n",
    "\n",
    "    cols = results_df.columns\n",
    "\n",
    "    r = []\n",
    "    theta = []\n",
    "    for col in cols:\n",
    "        if curr_model[col] != \"\":\n",
    "            r.append(curr_model[col])\n",
    "            theta.append(col)\n",
    "    df = pd.DataFrame(dict(r=r, theta=theta))\n",
    "    return df"
   ]
  },
  {
   "cell_type": "code",
   "execution_count": 42,
   "metadata": {},
   "outputs": [
    {
     "data": {
      "application/vnd.plotly.v1+json": {
       "config": {
        "plotlyServerURL": "https://plot.ly"
       },
       "data": [
        {
         "fill": "toself",
         "marker": {
          "color": "rgb(8,48,107)"
         },
         "mode": "lines+markers",
         "r": [
          0.727,
          0.698,
          0.679,
          0.725,
          0.627,
          0.681,
          0.679,
          0
         ],
         "subplot": "polar",
         "theta": [
          "No bias",
          "Self-diagnosis",
          "Recency",
          "Confirmation",
          "Frequency",
          "Cultural",
          "Status quo",
          "False consensus"
         ],
         "type": "scatterpolar"
        },
        {
         "fill": "toself",
         "marker": {
          "color": "rgb(8,48,107)"
         },
         "mode": "lines+markers",
         "opacity": 0.7,
         "r": [
          0.5,
          0.5,
          0.5,
          0.5,
          0.5,
          0.5,
          0.5,
          0.5
         ],
         "subplot": "polar",
         "theta": [
          "No bias",
          "Self-diagnosis",
          "Recency",
          "Confirmation",
          "Frequency",
          "Cultural",
          "Status quo",
          "False consensus"
         ],
         "type": "scatterpolar"
        },
        {
         "fill": "toself",
         "marker": {
          "color": "rgb(8,48,107)"
         },
         "mode": "lines+markers",
         "r": [
          0.518,
          0.46,
          0.455,
          0.497,
          0.373,
          0.421,
          0.445,
          0.428
         ],
         "subplot": "polar2",
         "theta": [
          "No bias",
          "Self-diagnosis",
          "Recency",
          "Confirmation",
          "Frequency",
          "Cultural",
          "Status quo",
          "False consensus"
         ],
         "type": "scatterpolar"
        },
        {
         "fill": "toself",
         "marker": {
          "color": "rgb(8,48,107)"
         },
         "mode": "lines+markers",
         "opacity": 0.7,
         "r": [
          0,
          0.46,
          0.455,
          0.497,
          0.373,
          0.421,
          0.445,
          0.428
         ],
         "subplot": "polar2",
         "theta": [
          "No bias",
          "Self-diagnosis",
          "Recency",
          "Confirmation",
          "Frequency",
          "Cultural",
          "Status quo",
          "False consensus"
         ],
         "type": "scatterpolar"
        },
        {
         "fill": "toself",
         "marker": {
          "color": "rgb(8,48,107)"
         },
         "mode": "lines+markers",
         "r": [
          0.497,
          0.288,
          0.333,
          0.407,
          0.274,
          0.277,
          0.361,
          0.239
         ],
         "subplot": "polar3",
         "theta": [
          "No bias",
          "Self-diagnosis",
          "Recency",
          "Confirmation",
          "Frequency",
          "Cultural",
          "Status quo",
          "False consensus"
         ],
         "type": "scatterpolar"
        },
        {
         "fill": "toself",
         "marker": {
          "color": "rgb(8,48,107)"
         },
         "mode": "lines+markers",
         "opacity": 0.7,
         "r": [
          0,
          0.288,
          0.333,
          0.407,
          0.274,
          0.277,
          0.361,
          0.239
         ],
         "subplot": "polar3",
         "theta": [
          "No bias",
          "Self-diagnosis",
          "Recency",
          "Confirmation",
          "Frequency",
          "Cultural",
          "Status quo",
          "False consensus"
         ],
         "type": "scatterpolar"
        },
        {
         "fill": "toself",
         "marker": {
          "color": "rgb(8,48,107)"
         },
         "mode": "lines+markers",
         "r": [
          0.429,
          0.322,
          0.232,
          0.318,
          0.167,
          0.231,
          0.22,
          0.213
         ],
         "subplot": "polar4",
         "theta": [
          "No bias",
          "Self-diagnosis",
          "Recency",
          "Confirmation",
          "Frequency",
          "Cultural",
          "Status quo",
          "False consensus"
         ],
         "type": "scatterpolar"
        },
        {
         "fill": "toself",
         "marker": {
          "color": "rgb(8,48,107)"
         },
         "mode": "lines+markers",
         "opacity": 0.7,
         "r": [
          0,
          0.322,
          0.232,
          0.318,
          0.167,
          0.231,
          0.22,
          0.213
         ],
         "subplot": "polar4",
         "theta": [
          "No bias",
          "Self-diagnosis",
          "Recency",
          "Confirmation",
          "Frequency",
          "Cultural",
          "Status quo",
          "False consensus"
         ],
         "type": "scatterpolar"
        },
        {
         "fill": "toself",
         "marker": {
          "color": "rgb(8,48,107)"
         },
         "mode": "lines+markers",
         "r": [
          0.357,
          0.169,
          0.141,
          0.177,
          0.104,
          0.207,
          0.16,
          0.139
         ],
         "subplot": "polar5",
         "theta": [
          "No bias",
          "Self-diagnosis",
          "Recency",
          "Confirmation",
          "Frequency",
          "Cultural",
          "Status quo",
          "False consensus"
         ],
         "type": "scatterpolar"
        },
        {
         "fill": "toself",
         "marker": {
          "color": "rgb(8,48,107)"
         },
         "mode": "lines+markers",
         "opacity": 0.7,
         "r": [
          0,
          0.169,
          0.141,
          0.177,
          0.104,
          0.207,
          0.16,
          0.139
         ],
         "subplot": "polar5",
         "theta": [
          "No bias",
          "Self-diagnosis",
          "Recency",
          "Confirmation",
          "Frequency",
          "Cultural",
          "Status quo",
          "False consensus"
         ],
         "type": "scatterpolar"
        },
        {
         "fill": "toself",
         "marker": {
          "color": "rgb(8,48,107)"
         },
         "mode": "lines+markers",
         "r": [
          0.334,
          0.197,
          0.247,
          0.25,
          0.224,
          0.278,
          0.29,
          0.155
         ],
         "subplot": "polar6",
         "theta": [
          "No bias",
          "Self-diagnosis",
          "Recency",
          "Confirmation",
          "Frequency",
          "Cultural",
          "Status quo",
          "False consensus"
         ],
         "type": "scatterpolar"
        },
        {
         "fill": "toself",
         "marker": {
          "color": "rgb(8,48,107)"
         },
         "mode": "lines+markers",
         "opacity": 0.7,
         "r": [
          0,
          0.197,
          0.247,
          0.25,
          0.224,
          0.278,
          0.29,
          0.155
         ],
         "subplot": "polar6",
         "theta": [
          "No bias",
          "Self-diagnosis",
          "Recency",
          "Confirmation",
          "Frequency",
          "Cultural",
          "Status quo",
          "False consensus"
         ],
         "type": "scatterpolar"
        }
       ],
       "layout": {
        "annotations": [
         {
          "align": "center",
          "font": {
           "size": 12
          },
          "showarrow": false,
          "text": "Model 1",
          "x": 0.16666666666666666,
          "xref": "paper",
          "y": 0.97,
          "yref": "paper"
         },
         {
          "align": "center",
          "font": {
           "size": 12
          },
          "showarrow": false,
          "text": "Model 2",
          "x": 0.5,
          "xref": "paper",
          "y": 0.97,
          "yref": "paper"
         },
         {
          "align": "center",
          "font": {
           "size": 12
          },
          "showarrow": false,
          "text": "Model 3",
          "x": 0.8333333333333334,
          "xref": "paper",
          "y": 0.97,
          "yref": "paper"
         },
         {
          "align": "center",
          "font": {
           "size": 12
          },
          "showarrow": false,
          "text": "Model 4",
          "x": 0.16666666666666666,
          "xref": "paper",
          "y": 0.72,
          "yref": "paper"
         },
         {
          "align": "center",
          "font": {
           "size": 12
          },
          "showarrow": false,
          "text": "Model 5",
          "x": 0.5,
          "xref": "paper",
          "y": 0.72,
          "yref": "paper"
         },
         {
          "align": "center",
          "font": {
           "size": 12
          },
          "showarrow": false,
          "text": "Model 6",
          "x": 0.8333333333333334,
          "xref": "paper",
          "y": 0.72,
          "yref": "paper"
         }
        ],
        "height": 1000,
        "margin": {
         "b": 20,
         "t": 20
        },
        "polar": {
         "domain": {
          "x": [
           0,
           0.2888888888888889
          ],
          "y": [
           0.675,
           1
          ]
         }
        },
        "polar2": {
         "domain": {
          "x": [
           0.35555555555555557,
           0.6444444444444445
          ],
          "y": [
           0.675,
           1
          ]
         }
        },
        "polar3": {
         "domain": {
          "x": [
           0.7111111111111111,
           1
          ],
          "y": [
           0.675,
           1
          ]
         }
        },
        "polar4": {
         "domain": {
          "x": [
           0,
           0.2888888888888889
          ],
          "y": [
           0,
           0.325
          ]
         }
        },
        "polar5": {
         "domain": {
          "x": [
           0.35555555555555557,
           0.6444444444444445
          ],
          "y": [
           0,
           0.325
          ]
         }
        },
        "polar6": {
         "domain": {
          "x": [
           0.7111111111111111,
           1
          ],
          "y": [
           0,
           0.325
          ]
         }
        },
        "showlegend": false,
        "template": {
         "data": {
          "bar": [
           {
            "error_x": {
             "color": "#2a3f5f"
            },
            "error_y": {
             "color": "#2a3f5f"
            },
            "marker": {
             "line": {
              "color": "#E5ECF6",
              "width": 0.5
             },
             "pattern": {
              "fillmode": "overlay",
              "size": 10,
              "solidity": 0.2
             }
            },
            "type": "bar"
           }
          ],
          "barpolar": [
           {
            "marker": {
             "line": {
              "color": "#E5ECF6",
              "width": 0.5
             },
             "pattern": {
              "fillmode": "overlay",
              "size": 10,
              "solidity": 0.2
             }
            },
            "type": "barpolar"
           }
          ],
          "carpet": [
           {
            "aaxis": {
             "endlinecolor": "#2a3f5f",
             "gridcolor": "white",
             "linecolor": "white",
             "minorgridcolor": "white",
             "startlinecolor": "#2a3f5f"
            },
            "baxis": {
             "endlinecolor": "#2a3f5f",
             "gridcolor": "white",
             "linecolor": "white",
             "minorgridcolor": "white",
             "startlinecolor": "#2a3f5f"
            },
            "type": "carpet"
           }
          ],
          "choropleth": [
           {
            "colorbar": {
             "outlinewidth": 0,
             "ticks": ""
            },
            "type": "choropleth"
           }
          ],
          "contour": [
           {
            "colorbar": {
             "outlinewidth": 0,
             "ticks": ""
            },
            "colorscale": [
             [
              0,
              "#0d0887"
             ],
             [
              0.1111111111111111,
              "#46039f"
             ],
             [
              0.2222222222222222,
              "#7201a8"
             ],
             [
              0.3333333333333333,
              "#9c179e"
             ],
             [
              0.4444444444444444,
              "#bd3786"
             ],
             [
              0.5555555555555556,
              "#d8576b"
             ],
             [
              0.6666666666666666,
              "#ed7953"
             ],
             [
              0.7777777777777778,
              "#fb9f3a"
             ],
             [
              0.8888888888888888,
              "#fdca26"
             ],
             [
              1,
              "#f0f921"
             ]
            ],
            "type": "contour"
           }
          ],
          "contourcarpet": [
           {
            "colorbar": {
             "outlinewidth": 0,
             "ticks": ""
            },
            "type": "contourcarpet"
           }
          ],
          "heatmap": [
           {
            "colorbar": {
             "outlinewidth": 0,
             "ticks": ""
            },
            "colorscale": [
             [
              0,
              "#0d0887"
             ],
             [
              0.1111111111111111,
              "#46039f"
             ],
             [
              0.2222222222222222,
              "#7201a8"
             ],
             [
              0.3333333333333333,
              "#9c179e"
             ],
             [
              0.4444444444444444,
              "#bd3786"
             ],
             [
              0.5555555555555556,
              "#d8576b"
             ],
             [
              0.6666666666666666,
              "#ed7953"
             ],
             [
              0.7777777777777778,
              "#fb9f3a"
             ],
             [
              0.8888888888888888,
              "#fdca26"
             ],
             [
              1,
              "#f0f921"
             ]
            ],
            "type": "heatmap"
           }
          ],
          "heatmapgl": [
           {
            "colorbar": {
             "outlinewidth": 0,
             "ticks": ""
            },
            "colorscale": [
             [
              0,
              "#0d0887"
             ],
             [
              0.1111111111111111,
              "#46039f"
             ],
             [
              0.2222222222222222,
              "#7201a8"
             ],
             [
              0.3333333333333333,
              "#9c179e"
             ],
             [
              0.4444444444444444,
              "#bd3786"
             ],
             [
              0.5555555555555556,
              "#d8576b"
             ],
             [
              0.6666666666666666,
              "#ed7953"
             ],
             [
              0.7777777777777778,
              "#fb9f3a"
             ],
             [
              0.8888888888888888,
              "#fdca26"
             ],
             [
              1,
              "#f0f921"
             ]
            ],
            "type": "heatmapgl"
           }
          ],
          "histogram": [
           {
            "marker": {
             "pattern": {
              "fillmode": "overlay",
              "size": 10,
              "solidity": 0.2
             }
            },
            "type": "histogram"
           }
          ],
          "histogram2d": [
           {
            "colorbar": {
             "outlinewidth": 0,
             "ticks": ""
            },
            "colorscale": [
             [
              0,
              "#0d0887"
             ],
             [
              0.1111111111111111,
              "#46039f"
             ],
             [
              0.2222222222222222,
              "#7201a8"
             ],
             [
              0.3333333333333333,
              "#9c179e"
             ],
             [
              0.4444444444444444,
              "#bd3786"
             ],
             [
              0.5555555555555556,
              "#d8576b"
             ],
             [
              0.6666666666666666,
              "#ed7953"
             ],
             [
              0.7777777777777778,
              "#fb9f3a"
             ],
             [
              0.8888888888888888,
              "#fdca26"
             ],
             [
              1,
              "#f0f921"
             ]
            ],
            "type": "histogram2d"
           }
          ],
          "histogram2dcontour": [
           {
            "colorbar": {
             "outlinewidth": 0,
             "ticks": ""
            },
            "colorscale": [
             [
              0,
              "#0d0887"
             ],
             [
              0.1111111111111111,
              "#46039f"
             ],
             [
              0.2222222222222222,
              "#7201a8"
             ],
             [
              0.3333333333333333,
              "#9c179e"
             ],
             [
              0.4444444444444444,
              "#bd3786"
             ],
             [
              0.5555555555555556,
              "#d8576b"
             ],
             [
              0.6666666666666666,
              "#ed7953"
             ],
             [
              0.7777777777777778,
              "#fb9f3a"
             ],
             [
              0.8888888888888888,
              "#fdca26"
             ],
             [
              1,
              "#f0f921"
             ]
            ],
            "type": "histogram2dcontour"
           }
          ],
          "mesh3d": [
           {
            "colorbar": {
             "outlinewidth": 0,
             "ticks": ""
            },
            "type": "mesh3d"
           }
          ],
          "parcoords": [
           {
            "line": {
             "colorbar": {
              "outlinewidth": 0,
              "ticks": ""
             }
            },
            "type": "parcoords"
           }
          ],
          "pie": [
           {
            "automargin": true,
            "type": "pie"
           }
          ],
          "scatter": [
           {
            "fillpattern": {
             "fillmode": "overlay",
             "size": 10,
             "solidity": 0.2
            },
            "type": "scatter"
           }
          ],
          "scatter3d": [
           {
            "line": {
             "colorbar": {
              "outlinewidth": 0,
              "ticks": ""
             }
            },
            "marker": {
             "colorbar": {
              "outlinewidth": 0,
              "ticks": ""
             }
            },
            "type": "scatter3d"
           }
          ],
          "scattercarpet": [
           {
            "marker": {
             "colorbar": {
              "outlinewidth": 0,
              "ticks": ""
             }
            },
            "type": "scattercarpet"
           }
          ],
          "scattergeo": [
           {
            "marker": {
             "colorbar": {
              "outlinewidth": 0,
              "ticks": ""
             }
            },
            "type": "scattergeo"
           }
          ],
          "scattergl": [
           {
            "marker": {
             "colorbar": {
              "outlinewidth": 0,
              "ticks": ""
             }
            },
            "type": "scattergl"
           }
          ],
          "scattermapbox": [
           {
            "marker": {
             "colorbar": {
              "outlinewidth": 0,
              "ticks": ""
             }
            },
            "type": "scattermapbox"
           }
          ],
          "scatterpolar": [
           {
            "marker": {
             "colorbar": {
              "outlinewidth": 0,
              "ticks": ""
             }
            },
            "type": "scatterpolar"
           }
          ],
          "scatterpolargl": [
           {
            "marker": {
             "colorbar": {
              "outlinewidth": 0,
              "ticks": ""
             }
            },
            "type": "scatterpolargl"
           }
          ],
          "scatterternary": [
           {
            "marker": {
             "colorbar": {
              "outlinewidth": 0,
              "ticks": ""
             }
            },
            "type": "scatterternary"
           }
          ],
          "surface": [
           {
            "colorbar": {
             "outlinewidth": 0,
             "ticks": ""
            },
            "colorscale": [
             [
              0,
              "#0d0887"
             ],
             [
              0.1111111111111111,
              "#46039f"
             ],
             [
              0.2222222222222222,
              "#7201a8"
             ],
             [
              0.3333333333333333,
              "#9c179e"
             ],
             [
              0.4444444444444444,
              "#bd3786"
             ],
             [
              0.5555555555555556,
              "#d8576b"
             ],
             [
              0.6666666666666666,
              "#ed7953"
             ],
             [
              0.7777777777777778,
              "#fb9f3a"
             ],
             [
              0.8888888888888888,
              "#fdca26"
             ],
             [
              1,
              "#f0f921"
             ]
            ],
            "type": "surface"
           }
          ],
          "table": [
           {
            "cells": {
             "fill": {
              "color": "#EBF0F8"
             },
             "line": {
              "color": "white"
             }
            },
            "header": {
             "fill": {
              "color": "#C8D4E3"
             },
             "line": {
              "color": "white"
             }
            },
            "type": "table"
           }
          ]
         },
         "layout": {
          "annotationdefaults": {
           "arrowcolor": "#2a3f5f",
           "arrowhead": 0,
           "arrowwidth": 1
          },
          "autotypenumbers": "strict",
          "coloraxis": {
           "colorbar": {
            "outlinewidth": 0,
            "ticks": ""
           }
          },
          "colorscale": {
           "diverging": [
            [
             0,
             "#8e0152"
            ],
            [
             0.1,
             "#c51b7d"
            ],
            [
             0.2,
             "#de77ae"
            ],
            [
             0.3,
             "#f1b6da"
            ],
            [
             0.4,
             "#fde0ef"
            ],
            [
             0.5,
             "#f7f7f7"
            ],
            [
             0.6,
             "#e6f5d0"
            ],
            [
             0.7,
             "#b8e186"
            ],
            [
             0.8,
             "#7fbc41"
            ],
            [
             0.9,
             "#4d9221"
            ],
            [
             1,
             "#276419"
            ]
           ],
           "sequential": [
            [
             0,
             "#0d0887"
            ],
            [
             0.1111111111111111,
             "#46039f"
            ],
            [
             0.2222222222222222,
             "#7201a8"
            ],
            [
             0.3333333333333333,
             "#9c179e"
            ],
            [
             0.4444444444444444,
             "#bd3786"
            ],
            [
             0.5555555555555556,
             "#d8576b"
            ],
            [
             0.6666666666666666,
             "#ed7953"
            ],
            [
             0.7777777777777778,
             "#fb9f3a"
            ],
            [
             0.8888888888888888,
             "#fdca26"
            ],
            [
             1,
             "#f0f921"
            ]
           ],
           "sequentialminus": [
            [
             0,
             "#0d0887"
            ],
            [
             0.1111111111111111,
             "#46039f"
            ],
            [
             0.2222222222222222,
             "#7201a8"
            ],
            [
             0.3333333333333333,
             "#9c179e"
            ],
            [
             0.4444444444444444,
             "#bd3786"
            ],
            [
             0.5555555555555556,
             "#d8576b"
            ],
            [
             0.6666666666666666,
             "#ed7953"
            ],
            [
             0.7777777777777778,
             "#fb9f3a"
            ],
            [
             0.8888888888888888,
             "#fdca26"
            ],
            [
             1,
             "#f0f921"
            ]
           ]
          },
          "colorway": [
           "#636efa",
           "#EF553B",
           "#00cc96",
           "#ab63fa",
           "#FFA15A",
           "#19d3f3",
           "#FF6692",
           "#B6E880",
           "#FF97FF",
           "#FECB52"
          ],
          "font": {
           "color": "#2a3f5f"
          },
          "geo": {
           "bgcolor": "white",
           "lakecolor": "white",
           "landcolor": "#E5ECF6",
           "showlakes": true,
           "showland": true,
           "subunitcolor": "white"
          },
          "hoverlabel": {
           "align": "left"
          },
          "hovermode": "closest",
          "mapbox": {
           "style": "light"
          },
          "paper_bgcolor": "white",
          "plot_bgcolor": "#E5ECF6",
          "polar": {
           "angularaxis": {
            "gridcolor": "white",
            "linecolor": "white",
            "ticks": ""
           },
           "bgcolor": "#E5ECF6",
           "radialaxis": {
            "gridcolor": "white",
            "linecolor": "white",
            "ticks": ""
           }
          },
          "scene": {
           "xaxis": {
            "backgroundcolor": "#E5ECF6",
            "gridcolor": "white",
            "gridwidth": 2,
            "linecolor": "white",
            "showbackground": true,
            "ticks": "",
            "zerolinecolor": "white"
           },
           "yaxis": {
            "backgroundcolor": "#E5ECF6",
            "gridcolor": "white",
            "gridwidth": 2,
            "linecolor": "white",
            "showbackground": true,
            "ticks": "",
            "zerolinecolor": "white"
           },
           "zaxis": {
            "backgroundcolor": "#E5ECF6",
            "gridcolor": "white",
            "gridwidth": 2,
            "linecolor": "white",
            "showbackground": true,
            "ticks": "",
            "zerolinecolor": "white"
           }
          },
          "shapedefaults": {
           "line": {
            "color": "#2a3f5f"
           }
          },
          "ternary": {
           "aaxis": {
            "gridcolor": "white",
            "linecolor": "white",
            "ticks": ""
           },
           "baxis": {
            "gridcolor": "white",
            "linecolor": "white",
            "ticks": ""
           },
           "bgcolor": "#E5ECF6",
           "caxis": {
            "gridcolor": "white",
            "linecolor": "white",
            "ticks": ""
           }
          },
          "title": {
           "x": 0.05
          },
          "xaxis": {
           "automargin": true,
           "gridcolor": "white",
           "linecolor": "white",
           "ticks": "",
           "title": {
            "standoff": 15
           },
           "zerolinecolor": "white",
           "zerolinewidth": 2
          },
          "yaxis": {
           "automargin": true,
           "gridcolor": "white",
           "linecolor": "white",
           "ticks": "",
           "title": {
            "standoff": 15
           },
           "zerolinecolor": "white",
           "zerolinewidth": 2
          }
         }
        }
       }
      },
      "text/html": [
       "<div>                            <div id=\"e074f3c0-8d31-4b15-a509-9d983fe35e0b\" class=\"plotly-graph-div\" style=\"height:1000px; width:100%;\"></div>            <script type=\"text/javascript\">                require([\"plotly\"], function(Plotly) {                    window.PLOTLYENV=window.PLOTLYENV || {};                                    if (document.getElementById(\"e074f3c0-8d31-4b15-a509-9d983fe35e0b\")) {                    Plotly.newPlot(                        \"e074f3c0-8d31-4b15-a509-9d983fe35e0b\",                        [{\"fill\":\"toself\",\"marker\":{\"color\":\"rgb(8,48,107)\"},\"mode\":\"lines+markers\",\"r\":[0.727,0.698,0.679,0.725,0.627,0.681,0.679,0.0],\"theta\":[\"No bias\",\"Self-diagnosis\",\"Recency\",\"Confirmation\",\"Frequency\",\"Cultural\",\"Status quo\",\"False consensus\"],\"type\":\"scatterpolar\",\"subplot\":\"polar\"},{\"fill\":\"toself\",\"marker\":{\"color\":\"rgb(8,48,107)\"},\"mode\":\"lines+markers\",\"opacity\":0.7,\"r\":[0.5,0.5,0.5,0.5,0.5,0.5,0.5,0.5],\"theta\":[\"No bias\",\"Self-diagnosis\",\"Recency\",\"Confirmation\",\"Frequency\",\"Cultural\",\"Status quo\",\"False consensus\"],\"type\":\"scatterpolar\",\"subplot\":\"polar\"},{\"fill\":\"toself\",\"marker\":{\"color\":\"rgb(8,48,107)\"},\"mode\":\"lines+markers\",\"r\":[0.518,0.46,0.455,0.497,0.373,0.421,0.445,0.428],\"theta\":[\"No bias\",\"Self-diagnosis\",\"Recency\",\"Confirmation\",\"Frequency\",\"Cultural\",\"Status quo\",\"False consensus\"],\"type\":\"scatterpolar\",\"subplot\":\"polar2\"},{\"fill\":\"toself\",\"marker\":{\"color\":\"rgb(8,48,107)\"},\"mode\":\"lines+markers\",\"opacity\":0.7,\"r\":[0.0,0.46,0.455,0.497,0.373,0.421,0.445,0.428],\"theta\":[\"No bias\",\"Self-diagnosis\",\"Recency\",\"Confirmation\",\"Frequency\",\"Cultural\",\"Status quo\",\"False consensus\"],\"type\":\"scatterpolar\",\"subplot\":\"polar2\"},{\"fill\":\"toself\",\"marker\":{\"color\":\"rgb(8,48,107)\"},\"mode\":\"lines+markers\",\"r\":[0.497,0.288,0.333,0.407,0.274,0.277,0.361,0.239],\"theta\":[\"No bias\",\"Self-diagnosis\",\"Recency\",\"Confirmation\",\"Frequency\",\"Cultural\",\"Status quo\",\"False consensus\"],\"type\":\"scatterpolar\",\"subplot\":\"polar3\"},{\"fill\":\"toself\",\"marker\":{\"color\":\"rgb(8,48,107)\"},\"mode\":\"lines+markers\",\"opacity\":0.7,\"r\":[0.0,0.288,0.333,0.407,0.274,0.277,0.361,0.239],\"theta\":[\"No bias\",\"Self-diagnosis\",\"Recency\",\"Confirmation\",\"Frequency\",\"Cultural\",\"Status quo\",\"False consensus\"],\"type\":\"scatterpolar\",\"subplot\":\"polar3\"},{\"fill\":\"toself\",\"marker\":{\"color\":\"rgb(8,48,107)\"},\"mode\":\"lines+markers\",\"r\":[0.429,0.322,0.232,0.318,0.167,0.231,0.22,0.213],\"theta\":[\"No bias\",\"Self-diagnosis\",\"Recency\",\"Confirmation\",\"Frequency\",\"Cultural\",\"Status quo\",\"False consensus\"],\"type\":\"scatterpolar\",\"subplot\":\"polar4\"},{\"fill\":\"toself\",\"marker\":{\"color\":\"rgb(8,48,107)\"},\"mode\":\"lines+markers\",\"opacity\":0.7,\"r\":[0.0,0.322,0.232,0.318,0.167,0.231,0.22,0.213],\"theta\":[\"No bias\",\"Self-diagnosis\",\"Recency\",\"Confirmation\",\"Frequency\",\"Cultural\",\"Status quo\",\"False consensus\"],\"type\":\"scatterpolar\",\"subplot\":\"polar4\"},{\"fill\":\"toself\",\"marker\":{\"color\":\"rgb(8,48,107)\"},\"mode\":\"lines+markers\",\"r\":[0.357,0.169,0.141,0.177,0.104,0.207,0.16,0.139],\"theta\":[\"No bias\",\"Self-diagnosis\",\"Recency\",\"Confirmation\",\"Frequency\",\"Cultural\",\"Status quo\",\"False consensus\"],\"type\":\"scatterpolar\",\"subplot\":\"polar5\"},{\"fill\":\"toself\",\"marker\":{\"color\":\"rgb(8,48,107)\"},\"mode\":\"lines+markers\",\"opacity\":0.7,\"r\":[0.0,0.169,0.141,0.177,0.104,0.207,0.16,0.139],\"theta\":[\"No bias\",\"Self-diagnosis\",\"Recency\",\"Confirmation\",\"Frequency\",\"Cultural\",\"Status quo\",\"False consensus\"],\"type\":\"scatterpolar\",\"subplot\":\"polar5\"},{\"fill\":\"toself\",\"marker\":{\"color\":\"rgb(8,48,107)\"},\"mode\":\"lines+markers\",\"r\":[0.334,0.197,0.247,0.25,0.224,0.278,0.29,0.155],\"theta\":[\"No bias\",\"Self-diagnosis\",\"Recency\",\"Confirmation\",\"Frequency\",\"Cultural\",\"Status quo\",\"False consensus\"],\"type\":\"scatterpolar\",\"subplot\":\"polar6\"},{\"fill\":\"toself\",\"marker\":{\"color\":\"rgb(8,48,107)\"},\"mode\":\"lines+markers\",\"opacity\":0.7,\"r\":[0.0,0.197,0.247,0.25,0.224,0.278,0.29,0.155],\"theta\":[\"No bias\",\"Self-diagnosis\",\"Recency\",\"Confirmation\",\"Frequency\",\"Cultural\",\"Status quo\",\"False consensus\"],\"type\":\"scatterpolar\",\"subplot\":\"polar6\"}],                        {\"template\":{\"data\":{\"histogram2dcontour\":[{\"type\":\"histogram2dcontour\",\"colorbar\":{\"outlinewidth\":0,\"ticks\":\"\"},\"colorscale\":[[0.0,\"#0d0887\"],[0.1111111111111111,\"#46039f\"],[0.2222222222222222,\"#7201a8\"],[0.3333333333333333,\"#9c179e\"],[0.4444444444444444,\"#bd3786\"],[0.5555555555555556,\"#d8576b\"],[0.6666666666666666,\"#ed7953\"],[0.7777777777777778,\"#fb9f3a\"],[0.8888888888888888,\"#fdca26\"],[1.0,\"#f0f921\"]]}],\"choropleth\":[{\"type\":\"choropleth\",\"colorbar\":{\"outlinewidth\":0,\"ticks\":\"\"}}],\"histogram2d\":[{\"type\":\"histogram2d\",\"colorbar\":{\"outlinewidth\":0,\"ticks\":\"\"},\"colorscale\":[[0.0,\"#0d0887\"],[0.1111111111111111,\"#46039f\"],[0.2222222222222222,\"#7201a8\"],[0.3333333333333333,\"#9c179e\"],[0.4444444444444444,\"#bd3786\"],[0.5555555555555556,\"#d8576b\"],[0.6666666666666666,\"#ed7953\"],[0.7777777777777778,\"#fb9f3a\"],[0.8888888888888888,\"#fdca26\"],[1.0,\"#f0f921\"]]}],\"heatmap\":[{\"type\":\"heatmap\",\"colorbar\":{\"outlinewidth\":0,\"ticks\":\"\"},\"colorscale\":[[0.0,\"#0d0887\"],[0.1111111111111111,\"#46039f\"],[0.2222222222222222,\"#7201a8\"],[0.3333333333333333,\"#9c179e\"],[0.4444444444444444,\"#bd3786\"],[0.5555555555555556,\"#d8576b\"],[0.6666666666666666,\"#ed7953\"],[0.7777777777777778,\"#fb9f3a\"],[0.8888888888888888,\"#fdca26\"],[1.0,\"#f0f921\"]]}],\"heatmapgl\":[{\"type\":\"heatmapgl\",\"colorbar\":{\"outlinewidth\":0,\"ticks\":\"\"},\"colorscale\":[[0.0,\"#0d0887\"],[0.1111111111111111,\"#46039f\"],[0.2222222222222222,\"#7201a8\"],[0.3333333333333333,\"#9c179e\"],[0.4444444444444444,\"#bd3786\"],[0.5555555555555556,\"#d8576b\"],[0.6666666666666666,\"#ed7953\"],[0.7777777777777778,\"#fb9f3a\"],[0.8888888888888888,\"#fdca26\"],[1.0,\"#f0f921\"]]}],\"contourcarpet\":[{\"type\":\"contourcarpet\",\"colorbar\":{\"outlinewidth\":0,\"ticks\":\"\"}}],\"contour\":[{\"type\":\"contour\",\"colorbar\":{\"outlinewidth\":0,\"ticks\":\"\"},\"colorscale\":[[0.0,\"#0d0887\"],[0.1111111111111111,\"#46039f\"],[0.2222222222222222,\"#7201a8\"],[0.3333333333333333,\"#9c179e\"],[0.4444444444444444,\"#bd3786\"],[0.5555555555555556,\"#d8576b\"],[0.6666666666666666,\"#ed7953\"],[0.7777777777777778,\"#fb9f3a\"],[0.8888888888888888,\"#fdca26\"],[1.0,\"#f0f921\"]]}],\"surface\":[{\"type\":\"surface\",\"colorbar\":{\"outlinewidth\":0,\"ticks\":\"\"},\"colorscale\":[[0.0,\"#0d0887\"],[0.1111111111111111,\"#46039f\"],[0.2222222222222222,\"#7201a8\"],[0.3333333333333333,\"#9c179e\"],[0.4444444444444444,\"#bd3786\"],[0.5555555555555556,\"#d8576b\"],[0.6666666666666666,\"#ed7953\"],[0.7777777777777778,\"#fb9f3a\"],[0.8888888888888888,\"#fdca26\"],[1.0,\"#f0f921\"]]}],\"mesh3d\":[{\"type\":\"mesh3d\",\"colorbar\":{\"outlinewidth\":0,\"ticks\":\"\"}}],\"scatter\":[{\"fillpattern\":{\"fillmode\":\"overlay\",\"size\":10,\"solidity\":0.2},\"type\":\"scatter\"}],\"parcoords\":[{\"type\":\"parcoords\",\"line\":{\"colorbar\":{\"outlinewidth\":0,\"ticks\":\"\"}}}],\"scatterpolargl\":[{\"type\":\"scatterpolargl\",\"marker\":{\"colorbar\":{\"outlinewidth\":0,\"ticks\":\"\"}}}],\"bar\":[{\"error_x\":{\"color\":\"#2a3f5f\"},\"error_y\":{\"color\":\"#2a3f5f\"},\"marker\":{\"line\":{\"color\":\"#E5ECF6\",\"width\":0.5},\"pattern\":{\"fillmode\":\"overlay\",\"size\":10,\"solidity\":0.2}},\"type\":\"bar\"}],\"scattergeo\":[{\"type\":\"scattergeo\",\"marker\":{\"colorbar\":{\"outlinewidth\":0,\"ticks\":\"\"}}}],\"scatterpolar\":[{\"type\":\"scatterpolar\",\"marker\":{\"colorbar\":{\"outlinewidth\":0,\"ticks\":\"\"}}}],\"histogram\":[{\"marker\":{\"pattern\":{\"fillmode\":\"overlay\",\"size\":10,\"solidity\":0.2}},\"type\":\"histogram\"}],\"scattergl\":[{\"type\":\"scattergl\",\"marker\":{\"colorbar\":{\"outlinewidth\":0,\"ticks\":\"\"}}}],\"scatter3d\":[{\"type\":\"scatter3d\",\"line\":{\"colorbar\":{\"outlinewidth\":0,\"ticks\":\"\"}},\"marker\":{\"colorbar\":{\"outlinewidth\":0,\"ticks\":\"\"}}}],\"scattermapbox\":[{\"type\":\"scattermapbox\",\"marker\":{\"colorbar\":{\"outlinewidth\":0,\"ticks\":\"\"}}}],\"scatterternary\":[{\"type\":\"scatterternary\",\"marker\":{\"colorbar\":{\"outlinewidth\":0,\"ticks\":\"\"}}}],\"scattercarpet\":[{\"type\":\"scattercarpet\",\"marker\":{\"colorbar\":{\"outlinewidth\":0,\"ticks\":\"\"}}}],\"carpet\":[{\"aaxis\":{\"endlinecolor\":\"#2a3f5f\",\"gridcolor\":\"white\",\"linecolor\":\"white\",\"minorgridcolor\":\"white\",\"startlinecolor\":\"#2a3f5f\"},\"baxis\":{\"endlinecolor\":\"#2a3f5f\",\"gridcolor\":\"white\",\"linecolor\":\"white\",\"minorgridcolor\":\"white\",\"startlinecolor\":\"#2a3f5f\"},\"type\":\"carpet\"}],\"table\":[{\"cells\":{\"fill\":{\"color\":\"#EBF0F8\"},\"line\":{\"color\":\"white\"}},\"header\":{\"fill\":{\"color\":\"#C8D4E3\"},\"line\":{\"color\":\"white\"}},\"type\":\"table\"}],\"barpolar\":[{\"marker\":{\"line\":{\"color\":\"#E5ECF6\",\"width\":0.5},\"pattern\":{\"fillmode\":\"overlay\",\"size\":10,\"solidity\":0.2}},\"type\":\"barpolar\"}],\"pie\":[{\"automargin\":true,\"type\":\"pie\"}]},\"layout\":{\"autotypenumbers\":\"strict\",\"colorway\":[\"#636efa\",\"#EF553B\",\"#00cc96\",\"#ab63fa\",\"#FFA15A\",\"#19d3f3\",\"#FF6692\",\"#B6E880\",\"#FF97FF\",\"#FECB52\"],\"font\":{\"color\":\"#2a3f5f\"},\"hovermode\":\"closest\",\"hoverlabel\":{\"align\":\"left\"},\"paper_bgcolor\":\"white\",\"plot_bgcolor\":\"#E5ECF6\",\"polar\":{\"bgcolor\":\"#E5ECF6\",\"angularaxis\":{\"gridcolor\":\"white\",\"linecolor\":\"white\",\"ticks\":\"\"},\"radialaxis\":{\"gridcolor\":\"white\",\"linecolor\":\"white\",\"ticks\":\"\"}},\"ternary\":{\"bgcolor\":\"#E5ECF6\",\"aaxis\":{\"gridcolor\":\"white\",\"linecolor\":\"white\",\"ticks\":\"\"},\"baxis\":{\"gridcolor\":\"white\",\"linecolor\":\"white\",\"ticks\":\"\"},\"caxis\":{\"gridcolor\":\"white\",\"linecolor\":\"white\",\"ticks\":\"\"}},\"coloraxis\":{\"colorbar\":{\"outlinewidth\":0,\"ticks\":\"\"}},\"colorscale\":{\"sequential\":[[0.0,\"#0d0887\"],[0.1111111111111111,\"#46039f\"],[0.2222222222222222,\"#7201a8\"],[0.3333333333333333,\"#9c179e\"],[0.4444444444444444,\"#bd3786\"],[0.5555555555555556,\"#d8576b\"],[0.6666666666666666,\"#ed7953\"],[0.7777777777777778,\"#fb9f3a\"],[0.8888888888888888,\"#fdca26\"],[1.0,\"#f0f921\"]],\"sequentialminus\":[[0.0,\"#0d0887\"],[0.1111111111111111,\"#46039f\"],[0.2222222222222222,\"#7201a8\"],[0.3333333333333333,\"#9c179e\"],[0.4444444444444444,\"#bd3786\"],[0.5555555555555556,\"#d8576b\"],[0.6666666666666666,\"#ed7953\"],[0.7777777777777778,\"#fb9f3a\"],[0.8888888888888888,\"#fdca26\"],[1.0,\"#f0f921\"]],\"diverging\":[[0,\"#8e0152\"],[0.1,\"#c51b7d\"],[0.2,\"#de77ae\"],[0.3,\"#f1b6da\"],[0.4,\"#fde0ef\"],[0.5,\"#f7f7f7\"],[0.6,\"#e6f5d0\"],[0.7,\"#b8e186\"],[0.8,\"#7fbc41\"],[0.9,\"#4d9221\"],[1,\"#276419\"]]},\"xaxis\":{\"gridcolor\":\"white\",\"linecolor\":\"white\",\"ticks\":\"\",\"title\":{\"standoff\":15},\"zerolinecolor\":\"white\",\"automargin\":true,\"zerolinewidth\":2},\"yaxis\":{\"gridcolor\":\"white\",\"linecolor\":\"white\",\"ticks\":\"\",\"title\":{\"standoff\":15},\"zerolinecolor\":\"white\",\"automargin\":true,\"zerolinewidth\":2},\"scene\":{\"xaxis\":{\"backgroundcolor\":\"#E5ECF6\",\"gridcolor\":\"white\",\"linecolor\":\"white\",\"showbackground\":true,\"ticks\":\"\",\"zerolinecolor\":\"white\",\"gridwidth\":2},\"yaxis\":{\"backgroundcolor\":\"#E5ECF6\",\"gridcolor\":\"white\",\"linecolor\":\"white\",\"showbackground\":true,\"ticks\":\"\",\"zerolinecolor\":\"white\",\"gridwidth\":2},\"zaxis\":{\"backgroundcolor\":\"#E5ECF6\",\"gridcolor\":\"white\",\"linecolor\":\"white\",\"showbackground\":true,\"ticks\":\"\",\"zerolinecolor\":\"white\",\"gridwidth\":2}},\"shapedefaults\":{\"line\":{\"color\":\"#2a3f5f\"}},\"annotationdefaults\":{\"arrowcolor\":\"#2a3f5f\",\"arrowhead\":0,\"arrowwidth\":1},\"geo\":{\"bgcolor\":\"white\",\"landcolor\":\"#E5ECF6\",\"subunitcolor\":\"white\",\"showland\":true,\"showlakes\":true,\"lakecolor\":\"white\"},\"title\":{\"x\":0.05},\"mapbox\":{\"style\":\"light\"}}},\"polar\":{\"domain\":{\"x\":[0.0,0.2888888888888889],\"y\":[0.675,1.0]}},\"polar2\":{\"domain\":{\"x\":[0.35555555555555557,0.6444444444444445],\"y\":[0.675,1.0]}},\"polar3\":{\"domain\":{\"x\":[0.7111111111111111,1.0],\"y\":[0.675,1.0]}},\"polar4\":{\"domain\":{\"x\":[0.0,0.2888888888888889],\"y\":[0.0,0.325]}},\"polar5\":{\"domain\":{\"x\":[0.35555555555555557,0.6444444444444445],\"y\":[0.0,0.325]}},\"polar6\":{\"domain\":{\"x\":[0.7111111111111111,1.0],\"y\":[0.0,0.325]}},\"showlegend\":false,\"margin\":{\"t\":20,\"b\":20},\"height\":1000,\"annotations\":[{\"align\":\"center\",\"font\":{\"size\":12},\"showarrow\":false,\"text\":\"Model 1\",\"x\":0.16666666666666666,\"xref\":\"paper\",\"y\":0.97,\"yref\":\"paper\"},{\"align\":\"center\",\"font\":{\"size\":12},\"showarrow\":false,\"text\":\"Model 2\",\"x\":0.5,\"xref\":\"paper\",\"y\":0.97,\"yref\":\"paper\"},{\"align\":\"center\",\"font\":{\"size\":12},\"showarrow\":false,\"text\":\"Model 3\",\"x\":0.8333333333333334,\"xref\":\"paper\",\"y\":0.97,\"yref\":\"paper\"},{\"align\":\"center\",\"font\":{\"size\":12},\"showarrow\":false,\"text\":\"Model 4\",\"x\":0.16666666666666666,\"xref\":\"paper\",\"y\":0.72,\"yref\":\"paper\"},{\"align\":\"center\",\"font\":{\"size\":12},\"showarrow\":false,\"text\":\"Model 5\",\"x\":0.5,\"xref\":\"paper\",\"y\":0.72,\"yref\":\"paper\"},{\"align\":\"center\",\"font\":{\"size\":12},\"showarrow\":false,\"text\":\"Model 6\",\"x\":0.8333333333333334,\"xref\":\"paper\",\"y\":0.72,\"yref\":\"paper\"}]},                        {\"responsive\": true}                    ).then(function(){\n",
       "                            \n",
       "var gd = document.getElementById('e074f3c0-8d31-4b15-a509-9d983fe35e0b');\n",
       "var x = new MutationObserver(function (mutations, observer) {{\n",
       "        var display = window.getComputedStyle(gd).display;\n",
       "        if (!display || display === 'none') {{\n",
       "            console.log([gd, 'removed!']);\n",
       "            Plotly.purge(gd);\n",
       "            observer.disconnect();\n",
       "        }}\n",
       "}});\n",
       "\n",
       "// Listen for the removal of the full notebook cells\n",
       "var notebookContainer = gd.closest('#notebook-container');\n",
       "if (notebookContainer) {{\n",
       "    x.observe(notebookContainer, {childList: true});\n",
       "}}\n",
       "\n",
       "// Listen for the clearing of the current output cell\n",
       "var outputEl = gd.closest('.output');\n",
       "if (outputEl) {{\n",
       "    x.observe(outputEl, {childList: true});\n",
       "}}\n",
       "\n",
       "                        })                };                });            </script>        </div>"
      ]
     },
     "metadata": {},
     "output_type": "display_data"
    }
   ],
   "source": [
    "import plotly.graph_objects as go\n",
    "import plotly.express as px\n",
    "from plotly.subplots import make_subplots\n",
    "\n",
    "# Define a base color for the plots\n",
    "base_color = 'blue'\n",
    "\n",
    "# Determine the number of plots/models\n",
    "num_models = len(index)\n",
    "\n",
    "# Specify the number of rows as an input variable\n",
    "num_rows = 2  # Change this to your desired number of rows\n",
    "\n",
    "# Calculate the number of columns needed based on the number of models and rows\n",
    "num_cols = -(-num_models // num_rows)  # Ceiling division to ensure enough columns\n",
    "\n",
    "# Create a subplot with specified number of rows and columns\n",
    "fig = make_subplots(rows=num_rows, cols=num_cols,\n",
    "                    specs=[[{'type': 'polar'}] * num_cols] * num_rows,\n",
    "                    vertical_spacing=0.35)  # Increase the vertical spacing to position titles better\n",
    "\n",
    "# Loop through each model and add both non-mitigated and mitigated data to the same subplot\n",
    "for i, model in enumerate(index):\n",
    "    # Determine the row and column to place each subplot\n",
    "    row = (i // num_cols) + 1\n",
    "    col = (i % num_cols) + 1\n",
    "\n",
    "    # Non-Mitigated Data\n",
    "    df_no_mitigation = query_results_df(no_mitigation_df, model)\n",
    "    fig.add_trace(go.Scatterpolar(\n",
    "        r=df_no_mitigation['r'],\n",
    "        theta=df_no_mitigation['theta'],\n",
    "        fill='toself',\n",
    "        marker_color=px.colors.sequential.Blues[8],  # Lighter shade of blue\n",
    "        mode='lines+markers',  # Display lines and markers\n",
    "    ), row=row, col=col)\n",
    "\n",
    "    # Mitigated Data\n",
    "    df_mitigation = query_results_df(mitigation_df, model)\n",
    "    fig.add_trace(go.Scatterpolar(\n",
    "        r=df_mitigation['r'],\n",
    "        theta=df_mitigation['theta'],\n",
    "        fill='toself',\n",
    "        marker_color=px.colors.sequential.Blues[8],  # Darker shade of blue\n",
    "        mode='lines+markers',  # Display lines and markers\n",
    "        opacity=0.7  # Slightly transparent for distinction\n",
    "    ), row=row, col=col)\n",
    "\n",
    "# Hide the legend\n",
    "fig.update_layout(showlegend=False)\n",
    "\n",
    "# Customize layout with increased height to accommodate the vertical spacing\n",
    "fig.update_layout(\n",
    "    height=1000,  # Increase the height to provide enough space for titles\n",
    "    margin=dict(t=20, b=20)  # Adjust top and bottom margins as necessary\n",
    ")\n",
    "\n",
    "# Add custom annotations for subplot titles to better control their position\n",
    "annotations = []\n",
    "for i in range(num_models):\n",
    "    # Calculate the position of each subplot title\n",
    "    x_pos = ((i % num_cols) + 0.5) / num_cols\n",
    "    y_pos = 1 - ((i // num_cols) * vertical_spacing) - 0.03  # Adjust y_pos for titles\n",
    "\n",
    "    annotations.append(dict(\n",
    "        text=f\"Model {i+1}\",  # Subplot Title\n",
    "        x=x_pos,  # X position (center of subplot)\n",
    "        y=y_pos,  # Y position (above subplot)\n",
    "        xref=\"paper\",\n",
    "        yref=\"paper\",\n",
    "        showarrow=False,\n",
    "        font=dict(size=12),  # Increase font size\n",
    "        align='center'\n",
    "    ))\n",
    "\n",
    "fig.update_layout(annotations=annotations)\n",
    "\n",
    "fig.show()\n"
   ]
  },
  {
   "cell_type": "code",
   "execution_count": 7,
   "metadata": {},
   "outputs": [
    {
     "data": {
      "application/vnd.plotly.v1+json": {
       "config": {
        "plotlyServerURL": "https://plot.ly"
       },
       "data": [
        {
         "fill": "toself",
         "marker": {
          "color": "rgb(228,26,28)"
         },
         "name": "gpt-4-0613",
         "r": [
          0.727,
          0.698,
          0.679,
          0.725,
          0.627,
          0.681,
          0.679,
          0
         ],
         "theta": [
          "No bias",
          "Self-diagnosis",
          "Recency",
          "Confirmation",
          "Frequency",
          "Cultural",
          "Status quo",
          "False consensus"
         ],
         "type": "scatterpolar"
        },
        {
         "fill": "toself",
         "marker": {
          "color": "rgb(55,126,184)"
         },
         "name": "mixtral-8x7b-instruct-v0.1",
         "r": [
          0.518,
          0.46,
          0.455,
          0.497,
          0.373,
          0.421,
          0.445,
          0.428
         ],
         "theta": [
          "No bias",
          "Self-diagnosis",
          "Recency",
          "Confirmation",
          "Frequency",
          "Cultural",
          "Status quo",
          "False consensus"
         ],
         "type": "scatterpolar"
        },
        {
         "fill": "toself",
         "marker": {
          "color": "rgb(77,175,74)"
         },
         "name": "gpt-3.5-turbo-0613",
         "r": [
          0.497,
          0.288,
          0.333,
          0.407,
          0.274,
          0.277,
          0.361,
          0.239
         ],
         "theta": [
          "No bias",
          "Self-diagnosis",
          "Recency",
          "Confirmation",
          "Frequency",
          "Cultural",
          "Status quo",
          "False consensus"
         ],
         "type": "scatterpolar"
        },
        {
         "fill": "toself",
         "marker": {
          "color": "rgb(152,78,163)"
         },
         "name": "text-bison-001 (PaLM-2 text)",
         "r": [
          0.429,
          0.322,
          0.232,
          0.318,
          0.167,
          0.231,
          0.22,
          0.213
         ],
         "theta": [
          "No bias",
          "Self-diagnosis",
          "Recency",
          "Confirmation",
          "Frequency",
          "Cultural",
          "Status quo",
          "False consensus"
         ],
         "type": "scatterpolar"
        },
        {
         "fill": "toself",
         "marker": {
          "color": "rgb(255,127,0)"
         },
         "name": "llama-2-70B-chat",
         "r": [
          0.357,
          0.169,
          0.141,
          0.177,
          0.104,
          0.207,
          0.16,
          0.139
         ],
         "theta": [
          "No bias",
          "Self-diagnosis",
          "Recency",
          "Confirmation",
          "Frequency",
          "Cultural",
          "Status quo",
          "False consensus"
         ],
         "type": "scatterpolar"
        },
        {
         "fill": "toself",
         "marker": {
          "color": "rgb(255,255,51)"
         },
         "name": "pmc-llama-13b",
         "r": [
          0.334,
          0.197,
          0.247,
          0.25,
          0.224,
          0.278,
          0.29,
          0.155
         ],
         "theta": [
          "No bias",
          "Self-diagnosis",
          "Recency",
          "Confirmation",
          "Frequency",
          "Cultural",
          "Status quo",
          "False consensus"
         ],
         "type": "scatterpolar"
        }
       ],
       "layout": {
        "legend": {
         "orientation": "h",
         "title": {
          "text": "Models"
         },
         "x": 0,
         "xanchor": "left",
         "y": -0.25,
         "yanchor": "bottom"
        },
        "polar": {
         "radialaxis": {
          "range": [
           0,
           1
          ],
          "visible": true
         }
        },
        "template": {
         "data": {
          "bar": [
           {
            "error_x": {
             "color": "#2a3f5f"
            },
            "error_y": {
             "color": "#2a3f5f"
            },
            "marker": {
             "line": {
              "color": "#E5ECF6",
              "width": 0.5
             },
             "pattern": {
              "fillmode": "overlay",
              "size": 10,
              "solidity": 0.2
             }
            },
            "type": "bar"
           }
          ],
          "barpolar": [
           {
            "marker": {
             "line": {
              "color": "#E5ECF6",
              "width": 0.5
             },
             "pattern": {
              "fillmode": "overlay",
              "size": 10,
              "solidity": 0.2
             }
            },
            "type": "barpolar"
           }
          ],
          "carpet": [
           {
            "aaxis": {
             "endlinecolor": "#2a3f5f",
             "gridcolor": "white",
             "linecolor": "white",
             "minorgridcolor": "white",
             "startlinecolor": "#2a3f5f"
            },
            "baxis": {
             "endlinecolor": "#2a3f5f",
             "gridcolor": "white",
             "linecolor": "white",
             "minorgridcolor": "white",
             "startlinecolor": "#2a3f5f"
            },
            "type": "carpet"
           }
          ],
          "choropleth": [
           {
            "colorbar": {
             "outlinewidth": 0,
             "ticks": ""
            },
            "type": "choropleth"
           }
          ],
          "contour": [
           {
            "colorbar": {
             "outlinewidth": 0,
             "ticks": ""
            },
            "colorscale": [
             [
              0,
              "#0d0887"
             ],
             [
              0.1111111111111111,
              "#46039f"
             ],
             [
              0.2222222222222222,
              "#7201a8"
             ],
             [
              0.3333333333333333,
              "#9c179e"
             ],
             [
              0.4444444444444444,
              "#bd3786"
             ],
             [
              0.5555555555555556,
              "#d8576b"
             ],
             [
              0.6666666666666666,
              "#ed7953"
             ],
             [
              0.7777777777777778,
              "#fb9f3a"
             ],
             [
              0.8888888888888888,
              "#fdca26"
             ],
             [
              1,
              "#f0f921"
             ]
            ],
            "type": "contour"
           }
          ],
          "contourcarpet": [
           {
            "colorbar": {
             "outlinewidth": 0,
             "ticks": ""
            },
            "type": "contourcarpet"
           }
          ],
          "heatmap": [
           {
            "colorbar": {
             "outlinewidth": 0,
             "ticks": ""
            },
            "colorscale": [
             [
              0,
              "#0d0887"
             ],
             [
              0.1111111111111111,
              "#46039f"
             ],
             [
              0.2222222222222222,
              "#7201a8"
             ],
             [
              0.3333333333333333,
              "#9c179e"
             ],
             [
              0.4444444444444444,
              "#bd3786"
             ],
             [
              0.5555555555555556,
              "#d8576b"
             ],
             [
              0.6666666666666666,
              "#ed7953"
             ],
             [
              0.7777777777777778,
              "#fb9f3a"
             ],
             [
              0.8888888888888888,
              "#fdca26"
             ],
             [
              1,
              "#f0f921"
             ]
            ],
            "type": "heatmap"
           }
          ],
          "heatmapgl": [
           {
            "colorbar": {
             "outlinewidth": 0,
             "ticks": ""
            },
            "colorscale": [
             [
              0,
              "#0d0887"
             ],
             [
              0.1111111111111111,
              "#46039f"
             ],
             [
              0.2222222222222222,
              "#7201a8"
             ],
             [
              0.3333333333333333,
              "#9c179e"
             ],
             [
              0.4444444444444444,
              "#bd3786"
             ],
             [
              0.5555555555555556,
              "#d8576b"
             ],
             [
              0.6666666666666666,
              "#ed7953"
             ],
             [
              0.7777777777777778,
              "#fb9f3a"
             ],
             [
              0.8888888888888888,
              "#fdca26"
             ],
             [
              1,
              "#f0f921"
             ]
            ],
            "type": "heatmapgl"
           }
          ],
          "histogram": [
           {
            "marker": {
             "pattern": {
              "fillmode": "overlay",
              "size": 10,
              "solidity": 0.2
             }
            },
            "type": "histogram"
           }
          ],
          "histogram2d": [
           {
            "colorbar": {
             "outlinewidth": 0,
             "ticks": ""
            },
            "colorscale": [
             [
              0,
              "#0d0887"
             ],
             [
              0.1111111111111111,
              "#46039f"
             ],
             [
              0.2222222222222222,
              "#7201a8"
             ],
             [
              0.3333333333333333,
              "#9c179e"
             ],
             [
              0.4444444444444444,
              "#bd3786"
             ],
             [
              0.5555555555555556,
              "#d8576b"
             ],
             [
              0.6666666666666666,
              "#ed7953"
             ],
             [
              0.7777777777777778,
              "#fb9f3a"
             ],
             [
              0.8888888888888888,
              "#fdca26"
             ],
             [
              1,
              "#f0f921"
             ]
            ],
            "type": "histogram2d"
           }
          ],
          "histogram2dcontour": [
           {
            "colorbar": {
             "outlinewidth": 0,
             "ticks": ""
            },
            "colorscale": [
             [
              0,
              "#0d0887"
             ],
             [
              0.1111111111111111,
              "#46039f"
             ],
             [
              0.2222222222222222,
              "#7201a8"
             ],
             [
              0.3333333333333333,
              "#9c179e"
             ],
             [
              0.4444444444444444,
              "#bd3786"
             ],
             [
              0.5555555555555556,
              "#d8576b"
             ],
             [
              0.6666666666666666,
              "#ed7953"
             ],
             [
              0.7777777777777778,
              "#fb9f3a"
             ],
             [
              0.8888888888888888,
              "#fdca26"
             ],
             [
              1,
              "#f0f921"
             ]
            ],
            "type": "histogram2dcontour"
           }
          ],
          "mesh3d": [
           {
            "colorbar": {
             "outlinewidth": 0,
             "ticks": ""
            },
            "type": "mesh3d"
           }
          ],
          "parcoords": [
           {
            "line": {
             "colorbar": {
              "outlinewidth": 0,
              "ticks": ""
             }
            },
            "type": "parcoords"
           }
          ],
          "pie": [
           {
            "automargin": true,
            "type": "pie"
           }
          ],
          "scatter": [
           {
            "fillpattern": {
             "fillmode": "overlay",
             "size": 10,
             "solidity": 0.2
            },
            "type": "scatter"
           }
          ],
          "scatter3d": [
           {
            "line": {
             "colorbar": {
              "outlinewidth": 0,
              "ticks": ""
             }
            },
            "marker": {
             "colorbar": {
              "outlinewidth": 0,
              "ticks": ""
             }
            },
            "type": "scatter3d"
           }
          ],
          "scattercarpet": [
           {
            "marker": {
             "colorbar": {
              "outlinewidth": 0,
              "ticks": ""
             }
            },
            "type": "scattercarpet"
           }
          ],
          "scattergeo": [
           {
            "marker": {
             "colorbar": {
              "outlinewidth": 0,
              "ticks": ""
             }
            },
            "type": "scattergeo"
           }
          ],
          "scattergl": [
           {
            "marker": {
             "colorbar": {
              "outlinewidth": 0,
              "ticks": ""
             }
            },
            "type": "scattergl"
           }
          ],
          "scattermapbox": [
           {
            "marker": {
             "colorbar": {
              "outlinewidth": 0,
              "ticks": ""
             }
            },
            "type": "scattermapbox"
           }
          ],
          "scatterpolar": [
           {
            "marker": {
             "colorbar": {
              "outlinewidth": 0,
              "ticks": ""
             }
            },
            "type": "scatterpolar"
           }
          ],
          "scatterpolargl": [
           {
            "marker": {
             "colorbar": {
              "outlinewidth": 0,
              "ticks": ""
             }
            },
            "type": "scatterpolargl"
           }
          ],
          "scatterternary": [
           {
            "marker": {
             "colorbar": {
              "outlinewidth": 0,
              "ticks": ""
             }
            },
            "type": "scatterternary"
           }
          ],
          "surface": [
           {
            "colorbar": {
             "outlinewidth": 0,
             "ticks": ""
            },
            "colorscale": [
             [
              0,
              "#0d0887"
             ],
             [
              0.1111111111111111,
              "#46039f"
             ],
             [
              0.2222222222222222,
              "#7201a8"
             ],
             [
              0.3333333333333333,
              "#9c179e"
             ],
             [
              0.4444444444444444,
              "#bd3786"
             ],
             [
              0.5555555555555556,
              "#d8576b"
             ],
             [
              0.6666666666666666,
              "#ed7953"
             ],
             [
              0.7777777777777778,
              "#fb9f3a"
             ],
             [
              0.8888888888888888,
              "#fdca26"
             ],
             [
              1,
              "#f0f921"
             ]
            ],
            "type": "surface"
           }
          ],
          "table": [
           {
            "cells": {
             "fill": {
              "color": "#EBF0F8"
             },
             "line": {
              "color": "white"
             }
            },
            "header": {
             "fill": {
              "color": "#C8D4E3"
             },
             "line": {
              "color": "white"
             }
            },
            "type": "table"
           }
          ]
         },
         "layout": {
          "annotationdefaults": {
           "arrowcolor": "#2a3f5f",
           "arrowhead": 0,
           "arrowwidth": 1
          },
          "autotypenumbers": "strict",
          "coloraxis": {
           "colorbar": {
            "outlinewidth": 0,
            "ticks": ""
           }
          },
          "colorscale": {
           "diverging": [
            [
             0,
             "#8e0152"
            ],
            [
             0.1,
             "#c51b7d"
            ],
            [
             0.2,
             "#de77ae"
            ],
            [
             0.3,
             "#f1b6da"
            ],
            [
             0.4,
             "#fde0ef"
            ],
            [
             0.5,
             "#f7f7f7"
            ],
            [
             0.6,
             "#e6f5d0"
            ],
            [
             0.7,
             "#b8e186"
            ],
            [
             0.8,
             "#7fbc41"
            ],
            [
             0.9,
             "#4d9221"
            ],
            [
             1,
             "#276419"
            ]
           ],
           "sequential": [
            [
             0,
             "#0d0887"
            ],
            [
             0.1111111111111111,
             "#46039f"
            ],
            [
             0.2222222222222222,
             "#7201a8"
            ],
            [
             0.3333333333333333,
             "#9c179e"
            ],
            [
             0.4444444444444444,
             "#bd3786"
            ],
            [
             0.5555555555555556,
             "#d8576b"
            ],
            [
             0.6666666666666666,
             "#ed7953"
            ],
            [
             0.7777777777777778,
             "#fb9f3a"
            ],
            [
             0.8888888888888888,
             "#fdca26"
            ],
            [
             1,
             "#f0f921"
            ]
           ],
           "sequentialminus": [
            [
             0,
             "#0d0887"
            ],
            [
             0.1111111111111111,
             "#46039f"
            ],
            [
             0.2222222222222222,
             "#7201a8"
            ],
            [
             0.3333333333333333,
             "#9c179e"
            ],
            [
             0.4444444444444444,
             "#bd3786"
            ],
            [
             0.5555555555555556,
             "#d8576b"
            ],
            [
             0.6666666666666666,
             "#ed7953"
            ],
            [
             0.7777777777777778,
             "#fb9f3a"
            ],
            [
             0.8888888888888888,
             "#fdca26"
            ],
            [
             1,
             "#f0f921"
            ]
           ]
          },
          "colorway": [
           "#636efa",
           "#EF553B",
           "#00cc96",
           "#ab63fa",
           "#FFA15A",
           "#19d3f3",
           "#FF6692",
           "#B6E880",
           "#FF97FF",
           "#FECB52"
          ],
          "font": {
           "color": "#2a3f5f"
          },
          "geo": {
           "bgcolor": "white",
           "lakecolor": "white",
           "landcolor": "#E5ECF6",
           "showlakes": true,
           "showland": true,
           "subunitcolor": "white"
          },
          "hoverlabel": {
           "align": "left"
          },
          "hovermode": "closest",
          "mapbox": {
           "style": "light"
          },
          "paper_bgcolor": "white",
          "plot_bgcolor": "#E5ECF6",
          "polar": {
           "angularaxis": {
            "gridcolor": "white",
            "linecolor": "white",
            "ticks": ""
           },
           "bgcolor": "#E5ECF6",
           "radialaxis": {
            "gridcolor": "white",
            "linecolor": "white",
            "ticks": ""
           }
          },
          "scene": {
           "xaxis": {
            "backgroundcolor": "#E5ECF6",
            "gridcolor": "white",
            "gridwidth": 2,
            "linecolor": "white",
            "showbackground": true,
            "ticks": "",
            "zerolinecolor": "white"
           },
           "yaxis": {
            "backgroundcolor": "#E5ECF6",
            "gridcolor": "white",
            "gridwidth": 2,
            "linecolor": "white",
            "showbackground": true,
            "ticks": "",
            "zerolinecolor": "white"
           },
           "zaxis": {
            "backgroundcolor": "#E5ECF6",
            "gridcolor": "white",
            "gridwidth": 2,
            "linecolor": "white",
            "showbackground": true,
            "ticks": "",
            "zerolinecolor": "white"
           }
          },
          "shapedefaults": {
           "line": {
            "color": "#2a3f5f"
           }
          },
          "ternary": {
           "aaxis": {
            "gridcolor": "white",
            "linecolor": "white",
            "ticks": ""
           },
           "baxis": {
            "gridcolor": "white",
            "linecolor": "white",
            "ticks": ""
           },
           "bgcolor": "#E5ECF6",
           "caxis": {
            "gridcolor": "white",
            "linecolor": "white",
            "ticks": ""
           }
          },
          "title": {
           "x": 0.05
          },
          "xaxis": {
           "automargin": true,
           "gridcolor": "white",
           "linecolor": "white",
           "ticks": "",
           "title": {
            "standoff": 15
           },
           "zerolinecolor": "white",
           "zerolinewidth": 2
          },
          "yaxis": {
           "automargin": true,
           "gridcolor": "white",
           "linecolor": "white",
           "ticks": "",
           "title": {
            "standoff": 15
           },
           "zerolinecolor": "white",
           "zerolinewidth": 2
          }
         }
        },
        "title": {
         "text": "Model Comparison"
        },
        "width": 700
       }
      },
      "text/html": [
       "<div>                            <div id=\"c455291b-b5dd-4186-9d71-0c1128c7ff93\" class=\"plotly-graph-div\" style=\"height:525px; width:700px;\"></div>            <script type=\"text/javascript\">                require([\"plotly\"], function(Plotly) {                    window.PLOTLYENV=window.PLOTLYENV || {};                                    if (document.getElementById(\"c455291b-b5dd-4186-9d71-0c1128c7ff93\")) {                    Plotly.newPlot(                        \"c455291b-b5dd-4186-9d71-0c1128c7ff93\",                        [{\"fill\":\"toself\",\"marker\":{\"color\":\"rgb(228,26,28)\"},\"name\":\"gpt-4-0613\",\"r\":[0.727,0.698,0.679,0.725,0.627,0.681,0.679,0.0],\"theta\":[\"No bias\",\"Self-diagnosis\",\"Recency\",\"Confirmation\",\"Frequency\",\"Cultural\",\"Status quo\",\"False consensus\"],\"type\":\"scatterpolar\"},{\"fill\":\"toself\",\"marker\":{\"color\":\"rgb(55,126,184)\"},\"name\":\"mixtral-8x7b-instruct-v0.1\",\"r\":[0.518,0.46,0.455,0.497,0.373,0.421,0.445,0.428],\"theta\":[\"No bias\",\"Self-diagnosis\",\"Recency\",\"Confirmation\",\"Frequency\",\"Cultural\",\"Status quo\",\"False consensus\"],\"type\":\"scatterpolar\"},{\"fill\":\"toself\",\"marker\":{\"color\":\"rgb(77,175,74)\"},\"name\":\"gpt-3.5-turbo-0613\",\"r\":[0.497,0.288,0.333,0.407,0.274,0.277,0.361,0.239],\"theta\":[\"No bias\",\"Self-diagnosis\",\"Recency\",\"Confirmation\",\"Frequency\",\"Cultural\",\"Status quo\",\"False consensus\"],\"type\":\"scatterpolar\"},{\"fill\":\"toself\",\"marker\":{\"color\":\"rgb(152,78,163)\"},\"name\":\"text-bison-001 (PaLM-2 text)\",\"r\":[0.429,0.322,0.232,0.318,0.167,0.231,0.22,0.213],\"theta\":[\"No bias\",\"Self-diagnosis\",\"Recency\",\"Confirmation\",\"Frequency\",\"Cultural\",\"Status quo\",\"False consensus\"],\"type\":\"scatterpolar\"},{\"fill\":\"toself\",\"marker\":{\"color\":\"rgb(255,127,0)\"},\"name\":\"llama-2-70B-chat\",\"r\":[0.357,0.169,0.141,0.177,0.104,0.207,0.16,0.139],\"theta\":[\"No bias\",\"Self-diagnosis\",\"Recency\",\"Confirmation\",\"Frequency\",\"Cultural\",\"Status quo\",\"False consensus\"],\"type\":\"scatterpolar\"},{\"fill\":\"toself\",\"marker\":{\"color\":\"rgb(255,255,51)\"},\"name\":\"pmc-llama-13b\",\"r\":[0.334,0.197,0.247,0.25,0.224,0.278,0.29,0.155],\"theta\":[\"No bias\",\"Self-diagnosis\",\"Recency\",\"Confirmation\",\"Frequency\",\"Cultural\",\"Status quo\",\"False consensus\"],\"type\":\"scatterpolar\"}],                        {\"width\":700,\"template\":{\"data\":{\"histogram2dcontour\":[{\"type\":\"histogram2dcontour\",\"colorbar\":{\"outlinewidth\":0,\"ticks\":\"\"},\"colorscale\":[[0.0,\"#0d0887\"],[0.1111111111111111,\"#46039f\"],[0.2222222222222222,\"#7201a8\"],[0.3333333333333333,\"#9c179e\"],[0.4444444444444444,\"#bd3786\"],[0.5555555555555556,\"#d8576b\"],[0.6666666666666666,\"#ed7953\"],[0.7777777777777778,\"#fb9f3a\"],[0.8888888888888888,\"#fdca26\"],[1.0,\"#f0f921\"]]}],\"choropleth\":[{\"type\":\"choropleth\",\"colorbar\":{\"outlinewidth\":0,\"ticks\":\"\"}}],\"histogram2d\":[{\"type\":\"histogram2d\",\"colorbar\":{\"outlinewidth\":0,\"ticks\":\"\"},\"colorscale\":[[0.0,\"#0d0887\"],[0.1111111111111111,\"#46039f\"],[0.2222222222222222,\"#7201a8\"],[0.3333333333333333,\"#9c179e\"],[0.4444444444444444,\"#bd3786\"],[0.5555555555555556,\"#d8576b\"],[0.6666666666666666,\"#ed7953\"],[0.7777777777777778,\"#fb9f3a\"],[0.8888888888888888,\"#fdca26\"],[1.0,\"#f0f921\"]]}],\"heatmap\":[{\"type\":\"heatmap\",\"colorbar\":{\"outlinewidth\":0,\"ticks\":\"\"},\"colorscale\":[[0.0,\"#0d0887\"],[0.1111111111111111,\"#46039f\"],[0.2222222222222222,\"#7201a8\"],[0.3333333333333333,\"#9c179e\"],[0.4444444444444444,\"#bd3786\"],[0.5555555555555556,\"#d8576b\"],[0.6666666666666666,\"#ed7953\"],[0.7777777777777778,\"#fb9f3a\"],[0.8888888888888888,\"#fdca26\"],[1.0,\"#f0f921\"]]}],\"heatmapgl\":[{\"type\":\"heatmapgl\",\"colorbar\":{\"outlinewidth\":0,\"ticks\":\"\"},\"colorscale\":[[0.0,\"#0d0887\"],[0.1111111111111111,\"#46039f\"],[0.2222222222222222,\"#7201a8\"],[0.3333333333333333,\"#9c179e\"],[0.4444444444444444,\"#bd3786\"],[0.5555555555555556,\"#d8576b\"],[0.6666666666666666,\"#ed7953\"],[0.7777777777777778,\"#fb9f3a\"],[0.8888888888888888,\"#fdca26\"],[1.0,\"#f0f921\"]]}],\"contourcarpet\":[{\"type\":\"contourcarpet\",\"colorbar\":{\"outlinewidth\":0,\"ticks\":\"\"}}],\"contour\":[{\"type\":\"contour\",\"colorbar\":{\"outlinewidth\":0,\"ticks\":\"\"},\"colorscale\":[[0.0,\"#0d0887\"],[0.1111111111111111,\"#46039f\"],[0.2222222222222222,\"#7201a8\"],[0.3333333333333333,\"#9c179e\"],[0.4444444444444444,\"#bd3786\"],[0.5555555555555556,\"#d8576b\"],[0.6666666666666666,\"#ed7953\"],[0.7777777777777778,\"#fb9f3a\"],[0.8888888888888888,\"#fdca26\"],[1.0,\"#f0f921\"]]}],\"surface\":[{\"type\":\"surface\",\"colorbar\":{\"outlinewidth\":0,\"ticks\":\"\"},\"colorscale\":[[0.0,\"#0d0887\"],[0.1111111111111111,\"#46039f\"],[0.2222222222222222,\"#7201a8\"],[0.3333333333333333,\"#9c179e\"],[0.4444444444444444,\"#bd3786\"],[0.5555555555555556,\"#d8576b\"],[0.6666666666666666,\"#ed7953\"],[0.7777777777777778,\"#fb9f3a\"],[0.8888888888888888,\"#fdca26\"],[1.0,\"#f0f921\"]]}],\"mesh3d\":[{\"type\":\"mesh3d\",\"colorbar\":{\"outlinewidth\":0,\"ticks\":\"\"}}],\"scatter\":[{\"fillpattern\":{\"fillmode\":\"overlay\",\"size\":10,\"solidity\":0.2},\"type\":\"scatter\"}],\"parcoords\":[{\"type\":\"parcoords\",\"line\":{\"colorbar\":{\"outlinewidth\":0,\"ticks\":\"\"}}}],\"scatterpolargl\":[{\"type\":\"scatterpolargl\",\"marker\":{\"colorbar\":{\"outlinewidth\":0,\"ticks\":\"\"}}}],\"bar\":[{\"error_x\":{\"color\":\"#2a3f5f\"},\"error_y\":{\"color\":\"#2a3f5f\"},\"marker\":{\"line\":{\"color\":\"#E5ECF6\",\"width\":0.5},\"pattern\":{\"fillmode\":\"overlay\",\"size\":10,\"solidity\":0.2}},\"type\":\"bar\"}],\"scattergeo\":[{\"type\":\"scattergeo\",\"marker\":{\"colorbar\":{\"outlinewidth\":0,\"ticks\":\"\"}}}],\"scatterpolar\":[{\"type\":\"scatterpolar\",\"marker\":{\"colorbar\":{\"outlinewidth\":0,\"ticks\":\"\"}}}],\"histogram\":[{\"marker\":{\"pattern\":{\"fillmode\":\"overlay\",\"size\":10,\"solidity\":0.2}},\"type\":\"histogram\"}],\"scattergl\":[{\"type\":\"scattergl\",\"marker\":{\"colorbar\":{\"outlinewidth\":0,\"ticks\":\"\"}}}],\"scatter3d\":[{\"type\":\"scatter3d\",\"line\":{\"colorbar\":{\"outlinewidth\":0,\"ticks\":\"\"}},\"marker\":{\"colorbar\":{\"outlinewidth\":0,\"ticks\":\"\"}}}],\"scattermapbox\":[{\"type\":\"scattermapbox\",\"marker\":{\"colorbar\":{\"outlinewidth\":0,\"ticks\":\"\"}}}],\"scatterternary\":[{\"type\":\"scatterternary\",\"marker\":{\"colorbar\":{\"outlinewidth\":0,\"ticks\":\"\"}}}],\"scattercarpet\":[{\"type\":\"scattercarpet\",\"marker\":{\"colorbar\":{\"outlinewidth\":0,\"ticks\":\"\"}}}],\"carpet\":[{\"aaxis\":{\"endlinecolor\":\"#2a3f5f\",\"gridcolor\":\"white\",\"linecolor\":\"white\",\"minorgridcolor\":\"white\",\"startlinecolor\":\"#2a3f5f\"},\"baxis\":{\"endlinecolor\":\"#2a3f5f\",\"gridcolor\":\"white\",\"linecolor\":\"white\",\"minorgridcolor\":\"white\",\"startlinecolor\":\"#2a3f5f\"},\"type\":\"carpet\"}],\"table\":[{\"cells\":{\"fill\":{\"color\":\"#EBF0F8\"},\"line\":{\"color\":\"white\"}},\"header\":{\"fill\":{\"color\":\"#C8D4E3\"},\"line\":{\"color\":\"white\"}},\"type\":\"table\"}],\"barpolar\":[{\"marker\":{\"line\":{\"color\":\"#E5ECF6\",\"width\":0.5},\"pattern\":{\"fillmode\":\"overlay\",\"size\":10,\"solidity\":0.2}},\"type\":\"barpolar\"}],\"pie\":[{\"automargin\":true,\"type\":\"pie\"}]},\"layout\":{\"autotypenumbers\":\"strict\",\"colorway\":[\"#636efa\",\"#EF553B\",\"#00cc96\",\"#ab63fa\",\"#FFA15A\",\"#19d3f3\",\"#FF6692\",\"#B6E880\",\"#FF97FF\",\"#FECB52\"],\"font\":{\"color\":\"#2a3f5f\"},\"hovermode\":\"closest\",\"hoverlabel\":{\"align\":\"left\"},\"paper_bgcolor\":\"white\",\"plot_bgcolor\":\"#E5ECF6\",\"polar\":{\"bgcolor\":\"#E5ECF6\",\"angularaxis\":{\"gridcolor\":\"white\",\"linecolor\":\"white\",\"ticks\":\"\"},\"radialaxis\":{\"gridcolor\":\"white\",\"linecolor\":\"white\",\"ticks\":\"\"}},\"ternary\":{\"bgcolor\":\"#E5ECF6\",\"aaxis\":{\"gridcolor\":\"white\",\"linecolor\":\"white\",\"ticks\":\"\"},\"baxis\":{\"gridcolor\":\"white\",\"linecolor\":\"white\",\"ticks\":\"\"},\"caxis\":{\"gridcolor\":\"white\",\"linecolor\":\"white\",\"ticks\":\"\"}},\"coloraxis\":{\"colorbar\":{\"outlinewidth\":0,\"ticks\":\"\"}},\"colorscale\":{\"sequential\":[[0.0,\"#0d0887\"],[0.1111111111111111,\"#46039f\"],[0.2222222222222222,\"#7201a8\"],[0.3333333333333333,\"#9c179e\"],[0.4444444444444444,\"#bd3786\"],[0.5555555555555556,\"#d8576b\"],[0.6666666666666666,\"#ed7953\"],[0.7777777777777778,\"#fb9f3a\"],[0.8888888888888888,\"#fdca26\"],[1.0,\"#f0f921\"]],\"sequentialminus\":[[0.0,\"#0d0887\"],[0.1111111111111111,\"#46039f\"],[0.2222222222222222,\"#7201a8\"],[0.3333333333333333,\"#9c179e\"],[0.4444444444444444,\"#bd3786\"],[0.5555555555555556,\"#d8576b\"],[0.6666666666666666,\"#ed7953\"],[0.7777777777777778,\"#fb9f3a\"],[0.8888888888888888,\"#fdca26\"],[1.0,\"#f0f921\"]],\"diverging\":[[0,\"#8e0152\"],[0.1,\"#c51b7d\"],[0.2,\"#de77ae\"],[0.3,\"#f1b6da\"],[0.4,\"#fde0ef\"],[0.5,\"#f7f7f7\"],[0.6,\"#e6f5d0\"],[0.7,\"#b8e186\"],[0.8,\"#7fbc41\"],[0.9,\"#4d9221\"],[1,\"#276419\"]]},\"xaxis\":{\"gridcolor\":\"white\",\"linecolor\":\"white\",\"ticks\":\"\",\"title\":{\"standoff\":15},\"zerolinecolor\":\"white\",\"automargin\":true,\"zerolinewidth\":2},\"yaxis\":{\"gridcolor\":\"white\",\"linecolor\":\"white\",\"ticks\":\"\",\"title\":{\"standoff\":15},\"zerolinecolor\":\"white\",\"automargin\":true,\"zerolinewidth\":2},\"scene\":{\"xaxis\":{\"backgroundcolor\":\"#E5ECF6\",\"gridcolor\":\"white\",\"linecolor\":\"white\",\"showbackground\":true,\"ticks\":\"\",\"zerolinecolor\":\"white\",\"gridwidth\":2},\"yaxis\":{\"backgroundcolor\":\"#E5ECF6\",\"gridcolor\":\"white\",\"linecolor\":\"white\",\"showbackground\":true,\"ticks\":\"\",\"zerolinecolor\":\"white\",\"gridwidth\":2},\"zaxis\":{\"backgroundcolor\":\"#E5ECF6\",\"gridcolor\":\"white\",\"linecolor\":\"white\",\"showbackground\":true,\"ticks\":\"\",\"zerolinecolor\":\"white\",\"gridwidth\":2}},\"shapedefaults\":{\"line\":{\"color\":\"#2a3f5f\"}},\"annotationdefaults\":{\"arrowcolor\":\"#2a3f5f\",\"arrowhead\":0,\"arrowwidth\":1},\"geo\":{\"bgcolor\":\"white\",\"landcolor\":\"#E5ECF6\",\"subunitcolor\":\"white\",\"showland\":true,\"showlakes\":true,\"lakecolor\":\"white\"},\"title\":{\"x\":0.05},\"mapbox\":{\"style\":\"light\"}}},\"polar\":{\"radialaxis\":{\"visible\":true,\"range\":[0,1]}},\"legend\":{\"title\":{\"text\":\"Models\"},\"orientation\":\"h\",\"yanchor\":\"bottom\",\"y\":-0.25,\"xanchor\":\"left\",\"x\":0},\"title\":{\"text\":\"Model Comparison\"}},                        {\"responsive\": true}                    ).then(function(){\n",
       "                            \n",
       "var gd = document.getElementById('c455291b-b5dd-4186-9d71-0c1128c7ff93');\n",
       "var x = new MutationObserver(function (mutations, observer) {{\n",
       "        var display = window.getComputedStyle(gd).display;\n",
       "        if (!display || display === 'none') {{\n",
       "            console.log([gd, 'removed!']);\n",
       "            Plotly.purge(gd);\n",
       "            observer.disconnect();\n",
       "        }}\n",
       "}});\n",
       "\n",
       "// Listen for the removal of the full notebook cells\n",
       "var notebookContainer = gd.closest('#notebook-container');\n",
       "if (notebookContainer) {{\n",
       "    x.observe(notebookContainer, {childList: true});\n",
       "}}\n",
       "\n",
       "// Listen for the clearing of the current output cell\n",
       "var outputEl = gd.closest('.output');\n",
       "if (outputEl) {{\n",
       "    x.observe(outputEl, {childList: true});\n",
       "}}\n",
       "\n",
       "                        })                };                });            </script>        </div>"
      ]
     },
     "metadata": {},
     "output_type": "display_data"
    }
   ],
   "source": [
    "import plotly.graph_objects as go\n",
    "import plotly.express as px\n",
    "\n",
    "# Define a set of distinct colors for the plots\n",
    "colors = px.colors.qualitative.Set1\n",
    "\n",
    "# Create a single polar plot with a specified width\n",
    "fig = go.Figure(layout=go.Layout(width=700))  # Adjust width as needed\n",
    "\n",
    "for i, model in enumerate(index):\n",
    "    df = query_results_df(no_mitigation_df, model)\n",
    "    # Add each model's data to the plot with a unique color and label for the legend\n",
    "    fig.add_trace(go.Scatterpolar(\n",
    "        r=df['r'],\n",
    "        theta=df['theta'],\n",
    "        fill='toself',\n",
    "        name=model,  # Assign the model name directly\n",
    "        marker_color=colors[i]  # Assign a color from the predefined set\n",
    "    ))\n",
    "\n",
    "# Update layout for a more compact view and clear legend display\n",
    "fig.update_layout(\n",
    "    title=\"Model Comparison\",\n",
    "    polar=dict(\n",
    "        radialaxis=dict(\n",
    "            visible=True,\n",
    "            range=[0, 1]\n",
    "        )\n",
    "    ),\n",
    "    legend_title=\"Models\",\n",
    "    legend=dict(\n",
    "        orientation=\"h\",  # Horizontal orientation\n",
    "        yanchor=\"bottom\",  # Anchor point is at the bottom\n",
    "        y=-0.25,  # Position the legend below the plot\n",
    "        xanchor=\"left\",  # Anchor point is on the left\n",
    "        x=0  # Position the legend at the far left\n",
    "    )\n",
    ")\n",
    "\n",
    "fig.show()\n"
   ]
  }
 ],
 "metadata": {
  "kernelspec": {
   "display_name": ".venv",
   "language": "python",
   "name": "python3"
  },
  "language_info": {
   "codemirror_mode": {
    "name": "ipython",
    "version": 3
   },
   "file_extension": ".py",
   "mimetype": "text/x-python",
   "name": "python",
   "nbconvert_exporter": "python",
   "pygments_lexer": "ipython3",
   "version": "3.10.12"
  }
 },
 "nbformat": 4,
 "nbformat_minor": 2
}
