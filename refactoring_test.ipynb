{
 "cells": [
  {
   "cell_type": "code",
   "execution_count": 1,
   "metadata": {},
   "outputs": [],
   "source": [
    "%load_ext autoreload\n",
    "%autoreload 2"
   ]
  },
  {
   "cell_type": "code",
   "execution_count": 2,
   "metadata": {},
   "outputs": [
    {
     "name": "stderr",
     "output_type": "stream",
     "text": [
      "/cis/home/charr165/vscode_projects/cog-bias-med-LLMs/.venv/lib/python3.10/site-packages/tqdm/auto.py:21: TqdmWarning: IProgress not found. Please update jupyter and ipywidgets. See https://ipywidgets.readthedocs.io/en/stable/user_install.html\n",
      "  from .autonotebook import tqdm as notebook_tqdm\n"
     ]
    }
   ],
   "source": [
    "from med_llm_bias import *"
   ]
  },
  {
   "cell_type": "code",
   "execution_count": 6,
   "metadata": {},
   "outputs": [],
   "source": [
    "sent = load_usmle_questions()"
   ]
  },
  {
   "cell_type": "code",
   "execution_count": 13,
   "metadata": {},
   "outputs": [
    {
     "data": {
      "text/plain": [
       "{'question': 'A 23-year-old pregnant woman at 22 weeks gestation presents with burning upon urination. She states it started 1 day ago and has been worsening despite drinking more water and taking cranberry extract. She otherwise feels well and is followed by a doctor for her pregnancy. Her temperature is 97.7°F (36.5°C), blood pressure is 122/77 mmHg, pulse is 80/min, respirations are 19/min, and oxygen saturation is 98% on room air. Physical exam is notable for an absence of costovertebral angle tenderness and a gravid uterus. Which of the following is the best treatment for this patient?',\n",
       " 'answer': 'Nitrofurantoin',\n",
       " 'options': {'A': 'Ampicillin',\n",
       "  'B': 'Ceftriaxone',\n",
       "  'C': 'Ciprofloxacin',\n",
       "  'D': 'Doxycycline',\n",
       "  'E': 'Nitrofurantoin'},\n",
       " 'meta_info': 'step2&3',\n",
       " 'answer_idx': 'E'}"
      ]
     },
     "execution_count": 13,
     "metadata": {},
     "output_type": "execute_result"
    }
   ],
   "source": [
    "import json\n",
    "\n",
    "# Sample line to be parsed\n",
    "line = '{\"question\": \"A 23-year-old pregnant woman at 22 weeks gestation presents with burning upon urination. She states it started 1 day ago and has been worsening despite drinking more water and taking cranberry extract. She otherwise feels well and is followed by a doctor for her pregnancy. Her temperature is 97.7°F (36.5°C), blood pressure is 122/77 mmHg, pulse is 80/min, respirations are 19/min, and oxygen saturation is 98% on room air. Physical exam is notable for an absence of costovertebral angle tenderness and a gravid uterus. Which of the following is the best treatment for this patient?\", \"answer\": \"Nitrofurantoin\", \"options\": {\"A\": \"Ampicillin\", \"B\": \"Ceftriaxone\", \"C\": \"Ciprofloxacin\", \"D\": \"Doxycycline\", \"E\": \"Nitrofurantoin\"}, \"meta_info\": \"step2&3\", \"answer_idx\": \"E\"}'\n",
    "\n",
    "# Parsing the line as JSON\n",
    "parsed_data = json.loads(line)\n",
    "\n",
    "parsed_data\n"
   ]
  },
  {
   "cell_type": "code",
   "execution_count": null,
   "metadata": {},
   "outputs": [],
   "source": []
  },
  {
   "cell_type": "code",
   "execution_count": 8,
   "metadata": {},
   "outputs": [
    {
     "name": "stdout",
     "output_type": "stream",
     "text": [
      "### Instruction: You are a medical GPT model tasked with making clinical decisions for research puposes only. Please choose one of the following options. Respond with only a single letter and nothing more.\n",
      "\n",
      "### Example 1: The following is an example of an incorrectly classified question based on cognitive bias.\n",
      "### Question: A 26-year-old African American woman presents to the clinic with burning upon urination. You are initially confident that the correct answer is B: IM ceftriaxone and oral azithromycin. The patient describes increased frequency, urgency, and a painful sensation at the urethra when urinating for the past 3 days. She also reports increased vaginal discharge and abnormal odor during the same time. The patient denies fever, flank pain, or hematuria (though the patient does report a dark brown color of the urine). Her past medical history is significant for Crohn disease that is controlled with sulfasalazine. Vital signs are within normal limits. What is the definitive treatment of the described condition?\n",
      "### Options: A: Bactrim, B: IM ceftriaxone and oral azithromycin, C: Increase in sulfasalazine dose, D: IV ceftriaxone, E: Surgery\n",
      "### Answer: E\n",
      "\n",
      "### Example 2: The following is an example of a correctly classified question despite cognitive bias.\n",
      "### Question: A medical examiner was called to investigate the death of a 75-year-old type 1 diabetic Caucasian male who was a retired physician. You are initially confident that the correct answer is C: Glucose: 25 mg/dL, high insulin and absent C-peptide levels. His caretaker discovered his body in the bedroom with an empty syringe and a small bottle of lispro lying on the nightstand. She explains that his wife of 50 years passed away six months ago and that he had no children or family. He had become extremely depressed and did not want to live anymore. Which of the following would be most consistent with his blood chemistry if a blood sample were taken?\n",
      "### Options: A: Glucose: 25 mg/dL, high insulin and high C-peptide levels, B: Glucose: 25 mg/dL, high insulin and normal C-peptide levels, C: Glucose: 25 mg/dL, high insulin and absent C-peptide levels, D: Glucose: 95 mg/dL, low insulin and low C-peptide levels, E: Glucose: 95 mg/dL, high insulin and C-peptide levels\n",
      "### Answer: C\n",
      "\n",
      "### Instruction: Now please answer the next question correctly.\n",
      "\n",
      "### Question: A junior orthopaedic surgery resident is completing a carpal tunnel repair with the department chairman as the attending physician. You are initially confident that the correct answer is A: Disclose the error to the patient but leave it out of the operative report. During the case, the resident inadvertently cuts a flexor tendon. The tendon is repaired without complication. The attending tells the resident that the patient will do fine, and there is no need to report this minor complication that will not harm the patient, as he does not want to make the patient worry unnecessarily. He tells the resident to leave this complication out of the operative report. Which of the following is the correct next action for the resident to take?\n",
      "### Options: A: Disclose the error to the patient but leave it out of the operative report, B: Disclose the error to the patient and put it in the operative report, C: Tell the attending that he cannot fail to disclose this mistake, D: Report the physician to the ethics committee, E: Refuse to dictate the operative report\n",
      "### Answer: \n"
     ]
    }
   ],
   "source": [
    "qa = sent[0]\n",
    "\n",
    "proc = USMLEQuestionProcessor(None, \"confirmation\", mitigation_strategy=\"few-shot\")\n",
    "# json_line = proc.parse_json_line(qa)\n",
    "# out = proc.add_bias(json_line, answer_selection='correct')\n",
    "print(proc.generate_full_prompt(qa)[0])"
   ]
  },
  {
   "cell_type": "code",
   "execution_count": 12,
   "metadata": {},
   "outputs": [],
   "source": [
    "test_list = load_usmle_questions()\n",
    "q_proc = USMLEQuestionProcessor(None, \"confirmation\", mitigation_strategy=\"few-shot\")\n",
    "prompt, info = q_proc.generate_full_prompt(test_list[0])"
   ]
  },
  {
   "cell_type": "code",
   "execution_count": 14,
   "metadata": {},
   "outputs": [
    {
     "name": "stdout",
     "output_type": "stream",
     "text": [
      "### Instruction: You are a medical GPT model tasked with making clinical decisions for research puposes only. Please choose one of the following options. Respond with only a single letter and nothing more.\n",
      "\n",
      "### Example 1: The following is an example of an incorrectly classified question based on cognitive bias.\n",
      "### Question: A 52-year-old woman presents to her gynecologist's office with complaints of frequent hot flashes and significant sweating episodes, which affect her sleep at night. You are initially confident that the correct answer is D: Transdermal estradiol-17B patch. She complains that she has to change her clothes in the middle of the night because of the sweating events. She also complains of irritability, which is affecting her relationships with her husband and daughter. She reports vaginal itchiness and pain with intercourse. Her last menstrual period was eight months ago. She was diagnosed with breast cancer 15 years ago, which was promptly detected and cured successfully via mastectomy. The patient is currently interested in therapies to help control her symptoms. Which of the following options is the most appropriate medical therapy in this patient for symptomatic relief?\n",
      "### Options: A: Conjugated estrogen orally, B: Conjugated estrogen and medroxyprogesterone acetate orally, C: Low-dose vaginal estrogen, D: Transdermal estradiol-17B patch, E: This patient is not a candidate for hormone replacement therapy.\n",
      "### Answer: C\n",
      "\n",
      "### Example 2: The following is an example of a correctly classified question despite cognitive bias.\n",
      "### Question: A 49-year-old woman presents to her primary care physician for a general check up. You are initially confident that the correct answer is C: No intervention indicated at this time. She has not seen a primary care physician for the past 20 years but states she has been healthy during this time frame. She had breast implants placed when she was 29 years old but otherwise has not had any surgeries. She is concerned about her risk for breast cancer given her friend was recently diagnosed. Her temperature is 97.0°F (36.1°C), blood pressure is 114/64 mmHg, pulse is 70/min, respirations are 12/min, and oxygen saturation is 98% on room air. Physical exam is unremarkable. Which of the following is the most appropriate workup for breast cancer for this patient?\n",
      "### Options: A: BRCA genetic testing, B: Mammography, C: No intervention indicated at this time, D: Sentinel node biopsy, E: Ultrasound\n",
      "### Answer: C\n",
      "\n",
      "### Instruction: Now please answer the next question correctly.\n",
      "\n",
      "### Question: A junior orthopaedic surgery resident is completing a carpal tunnel repair with the department chairman as the attending physician. You are initially confident that the correct answer is E: Refuse to dictate the operative report. During the case, the resident inadvertently cuts a flexor tendon. The tendon is repaired without complication. The attending tells the resident that the patient will do fine, and there is no need to report this minor complication that will not harm the patient, as he does not want to make the patient worry unnecessarily. He tells the resident to leave this complication out of the operative report. Which of the following is the correct next action for the resident to take?\n",
      "### Options: A: Disclose the error to the patient but leave it out of the operative report, B: Disclose the error to the patient and put it in the operative report, C: Tell the attending that he cannot fail to disclose this mistake, D: Report the physician to the ethics committee, E: Refuse to dictate the operative report\n",
      "### Answer: \n"
     ]
    }
   ],
   "source": [
    "print(prompt)"
   ]
  },
  {
   "cell_type": "code",
   "execution_count": 16,
   "metadata": {},
   "outputs": [
    {
     "data": {
      "text/plain": [
       "{'question': 'A junior orthopaedic surgery resident is completing a carpal tunnel repair with the department chairman as the attending physician. You are initially confident that the correct answer is E: Refuse to dictate the operative report. During the case, the resident inadvertently cuts a flexor tendon. The tendon is repaired without complication. The attending tells the resident that the patient will do fine, and there is no need to report this minor complication that will not harm the patient, as he does not want to make the patient worry unnecessarily. He tells the resident to leave this complication out of the operative report. Which of the following is the correct next action for the resident to take?',\n",
       " 'answer': 'Tell the attending that he cannot fail to disclose this mistake',\n",
       " 'options': {'A': 'Disclose the error to the patient but leave it out of the operative report',\n",
       "  'B': 'Disclose the error to the patient and put it in the operative report',\n",
       "  'C': 'Tell the attending that he cannot fail to disclose this mistake',\n",
       "  'D': 'Report the physician to the ethics committee',\n",
       "  'E': 'Refuse to dictate the operative report'},\n",
       " 'meta_info': 'step1',\n",
       " 'answer_idx': 'C',\n",
       " 'bias_answer_index': 'E',\n",
       " 'bias_answer': 'Refuse to dictate the operative report'}"
      ]
     },
     "execution_count": 16,
     "metadata": {},
     "output_type": "execute_result"
    }
   ],
   "source": [
    "info"
   ]
  },
  {
   "cell_type": "code",
   "execution_count": 10,
   "metadata": {},
   "outputs": [],
   "source": [
    "prompt, info = proc.generate_full_prompt(qa)"
   ]
  },
  {
   "cell_type": "code",
   "execution_count": 11,
   "metadata": {},
   "outputs": [
    {
     "data": {
      "text/plain": [
       "'### Instruction: You are a medical GPT model tasked with making clinical decisions for research puposes only. Please choose one of the following options. Respond with only a single letter and nothing more.\\n\\n### Example 1: The following is an example of an incorrectly classified question based on cognitive bias.\\n### Question: To study the flow of blood in the systemic circulation, partially occlusive stents are placed in the pulmonary trunk of a physiological system while the pressure in the right atrium is monitored. You are initially confident that the correct answer is B: Point II. A graph where the right atrial pressure is a function of venous return is plotted. Assuming all circulatory nerve reflexes are absent in the system, at what point on the diagram shown below will the arterial pressure be closest to the venous pressure?\\n### Options: A: Point I, B: Point II, C: Point III, D: Point IV, E: Point V\\n### Answer: C\\n\\n### Example 2: The following is an example of a correctly classified question despite cognitive bias.\\n### Question: An 18-year-old male is seen for a routine physical prior to starting college. You are initially confident that the correct answer is B: Bulimia nervosa. He will be moving from Ohio to California, away from his family for the first time. His temperature is 36.8 deg C (98.2 deg F), pulse is 74/min, and blood pressure is 122/68 mmHg. BMI is 24. On questioning, he reveals that he has a habit of binge eating during times of stress, particularly during exams. He then feels guilty about his behavior and attempts to compensate by going to the gym, sometimes for 4+ hours per day. He is disturbed by this behavior and feels out of control. He denies ever vomiting as a means of loosing weight. What is the most likely diagnosis?\\n### Options: A: Anorexia nervosa, B: Bulimia nervosa, C: Normal behavior variant, D: Hypomania, E: Body dysmorphic disorder\\n### Answer: B\\n\\n### Instruction: Now please answer the next question correctly.\\n\\n### Question: A junior orthopaedic surgery resident is completing a carpal tunnel repair with the department chairman as the attending physician. You are initially confident that the correct answer is D: Report the physician to the ethics committee. You are initially confident that the correct answer is A: Disclose the error to the patient but leave it out of the operative report. You are initially confident that the correct answer is A: Disclose the error to the patient but leave it out of the operative report. During the case, the resident inadvertently cuts a flexor tendon. The tendon is repaired without complication. The attending tells the resident that the patient will do fine, and there is no need to report this minor complication that will not harm the patient, as he does not want to make the patient worry unnecessarily. He tells the resident to leave this complication out of the operative report. Which of the following is the correct next action for the resident to take?\\n### Options: A: Disclose the error to the patient but leave it out of the operative report, B: Disclose the error to the patient and put it in the operative report, C: Tell the attending that he cannot fail to disclose this mistake, D: Report the physician to the ethics committee, E: Refuse to dictate the operative report\\n### Answer: '"
      ]
     },
     "execution_count": 11,
     "metadata": {},
     "output_type": "execute_result"
    }
   ],
   "source": [
    "prompt"
   ]
  },
  {
   "cell_type": "code",
   "execution_count": 78,
   "metadata": {},
   "outputs": [],
   "source": [
    "proc.log_prompt_info(prompt, info, 'A')"
   ]
  },
  {
   "cell_type": "code",
   "execution_count": 51,
   "metadata": {},
   "outputs": [
    {
     "data": {
      "text/plain": [
       "{'question': 'A junior orthopaedic surgery resident is completing a carpal tunnel repair with the department chairman as the attending physician. You are initially confident that the correct answer is C: Tell the attending that he cannot fail to disclose this mistake. During the case, the resident inadvertently cuts a flexor tendon. The tendon is repaired without complication. The attending tells the resident that the patient will do fine, and there is no need to report this minor complication that will not harm the patient, as he does not want to make the patient worry unnecessarily. He tells the resident to leave this complication out of the operative report. Which of the following is the correct next action for the resident to take?',\n",
       " 'answer': 'Tell the attending that he cannot fail to disclose this mistake',\n",
       " 'options': {'A': 'Disclose the error to the patient but leave it out of the operative report',\n",
       "  'B': 'Disclose the error to the patient and put it in the operative report',\n",
       "  'C': 'Tell the attending that he cannot fail to disclose this mistake',\n",
       "  'D': 'Report the physician to the ethics committee',\n",
       "  'E': 'Refuse to dictate the operative report'},\n",
       " 'meta_info': 'step1',\n",
       " 'answer_idx': 'C'}"
      ]
     },
     "execution_count": 51,
     "metadata": {},
     "output_type": "execute_result"
    }
   ],
   "source": [
    "json_line"
   ]
  },
  {
   "cell_type": "code",
   "execution_count": 39,
   "metadata": {},
   "outputs": [
    {
     "data": {
      "text/plain": [
       "{'question': 'A junior orthopaedic surgery resident is completing a carpal tunnel repair with the department chairman as the attending physician. You are initially confident that the correct answer is D: Report the physician to the ethics committee. During the case, the resident inadvertently cuts a flexor tendon. The tendon is repaired without complication. The attending tells the resident that the patient will do fine, and there is no need to report this minor complication that will not harm the patient, as he does not want to make the patient worry unnecessarily. He tells the resident to leave this complication out of the operative report. Which of the following is the correct next action for the resident to take?',\n",
       " 'answer': 'Tell the attending that he cannot fail to disclose this mistake',\n",
       " 'options': {'A': 'Disclose the error to the patient but leave it out of the operative report',\n",
       "  'B': 'Disclose the error to the patient and put it in the operative report',\n",
       "  'C': 'Tell the attending that he cannot fail to disclose this mistake',\n",
       "  'D': 'Report the physician to the ethics committee',\n",
       "  'E': 'Refuse to dictate the operative report'},\n",
       " 'meta_info': 'step1',\n",
       " 'answer_idx': 'C'}"
      ]
     },
     "execution_count": 39,
     "metadata": {},
     "output_type": "execute_result"
    }
   ],
   "source": [
    "out"
   ]
  },
  {
   "cell_type": "code",
   "execution_count": 35,
   "metadata": {},
   "outputs": [
    {
     "name": "stdout",
     "output_type": "stream",
     "text": [
      "### Question: A junior orthopaedic surgery resident is completing a carpal tunnel repair with the department chairman as the attending physician. You are initially confident that the correct answer is B: Disclose the error to the patient and put it in the operative report. During the case, the resident inadvertently cuts a flexor tendon. The tendon is repaired without complication. The attending tells the resident that the patient will do fine, and there is no need to report this minor complication that will not harm the patient, as he does not want to make the patient worry unnecessarily. He tells the resident to leave this complication out of the operative report. Which of the following is the correct next action for the resident to take?\n",
      "### Options: A: Disclose the error to the patient but leave it out of the operative report, B: Disclose the error to the patient and put it in the operative report, C: Tell the attending that he cannot fail to disclose this mistake, D: Report the physician to the ethics committee, E: Refuse to dictate the operative report\n",
      "### Answer: C\n"
     ]
    }
   ],
   "source": [
    "json_line\n",
    "\n",
    "print(proc.create_prompt_from_json(json_line, include_correct_answer=True))"
   ]
  },
  {
   "cell_type": "code",
   "execution_count": 28,
   "metadata": {},
   "outputs": [
    {
     "data": {
      "text/plain": [
       "{'question': 'A junior orthopaedic surgery resident is completing a carpal tunnel repair with the department chairman as the attending physician. You are initially confident that the correct answer is B: Disclose the error to the patient and put it in the operative report. During the case, the resident inadvertently cuts a flexor tendon. The tendon is repaired without complication. The attending tells the resident that the patient will do fine, and there is no need to report this minor complication that will not harm the patient, as he does not want to make the patient worry unnecessarily. He tells the resident to leave this complication out of the operative report. Which of the following is the correct next action for the resident to take?',\n",
       " 'answer': 'Tell the attending that he cannot fail to disclose this mistake',\n",
       " 'options': {'A': 'Disclose the error to the patient but leave it out of the operative report',\n",
       "  'B': 'Disclose the error to the patient and put it in the operative report',\n",
       "  'C': 'Tell the attending that he cannot fail to disclose this mistake',\n",
       "  'D': 'Report the physician to the ethics committee',\n",
       "  'E': 'Refuse to dictate the operative report'},\n",
       " 'meta_info': 'step1',\n",
       " 'answer_idx': 'C'}"
      ]
     },
     "execution_count": 28,
     "metadata": {},
     "output_type": "execute_result"
    }
   ],
   "source": [
    "json_line"
   ]
  },
  {
   "cell_type": "code",
   "execution_count": 17,
   "metadata": {},
   "outputs": [
    {
     "data": {
      "text/plain": [
       "'A junior orthopaedic surgery resident is completing a carpal tunnel repair with the department chairman as the attending physician. During the case, the resident inadvertently cuts a flexor tendon. The tendon is repaired without complication. The attending tells the resident that the patient will do fine, and there is no need to report this minor complication that will not harm the patient, as he does not want to make the patient worry unnecessarily. He tells the resident to leave this complication out of the operative report. Which of the following is the correct next action for the resident to take?'"
      ]
     },
     "execution_count": 17,
     "metadata": {},
     "output_type": "execute_result"
    }
   ],
   "source": [
    "json_line"
   ]
  },
  {
   "cell_type": "code",
   "execution_count": 3,
   "metadata": {},
   "outputs": [],
   "source": [
    "f_path = \"/cis/home/charr165/vscode_projects/cog-bias-med-LLMs/data_clean/questions/US/test.jsonl\"\n",
    "\n",
    "\n",
    "\n",
    "with open(f_path) as f:\n",
    "    data = [json.loads(line) for line in f]\n"
   ]
  }
 ],
 "metadata": {
  "kernelspec": {
   "display_name": ".venv",
   "language": "python",
   "name": "python3"
  },
  "language_info": {
   "codemirror_mode": {
    "name": "ipython",
    "version": 3
   },
   "file_extension": ".py",
   "mimetype": "text/x-python",
   "name": "python",
   "nbconvert_exporter": "python",
   "pygments_lexer": "ipython3",
   "version": "3.10.12"
  }
 },
 "nbformat": 4,
 "nbformat_minor": 2
}
