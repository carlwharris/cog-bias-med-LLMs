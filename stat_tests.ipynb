{
 "cells": [
  {
   "cell_type": "code",
   "execution_count": 2,
   "metadata": {},
   "outputs": [],
   "source": [
    "import pandas as pd\n",
    "import numpy as np\n",
    "import math\n",
    "from scipy.stats import norm\n"
   ]
  },
  {
   "cell_type": "code",
   "execution_count": 10,
   "metadata": {},
   "outputs": [
    {
     "name": "stdout",
     "output_type": "stream",
     "text": [
      "p-value: 0.168\n"
     ]
    }
   ],
   "source": [
    "def stat_test(p1, n1, p2, n2):\n",
    "    \"\"\"\n",
    "    Conducts a two-sample hypothesis test of proportions.\n",
    "    \n",
    "    Parameters:\n",
    "    p1 (float): Proportion from sample 1.\n",
    "    n1 (int): Number of samples in sample 1.\n",
    "    p2 (float): Proportion from sample 2.\n",
    "    n2 (int): Number of samples in sample 2.\n",
    "    \n",
    "    Returns:\n",
    "    Z (float): Z score for the test.\n",
    "    p_value (float): p-value for the test.\n",
    "    \"\"\"\n",
    "    # Calculate the pooled proportion\n",
    "    p_star = (n1 * p1 + n2 * p2) / (n1 + n2)\n",
    "    \n",
    "    # Calculate the standard error\n",
    "    se = math.sqrt(p_star * (1 - p_star) * (1/n1 + 1/n2))\n",
    "    \n",
    "    # Calculate the Z score\n",
    "    Z = (p1 - p2) / se\n",
    "    \n",
    "    # Calculate the p-value (two-tailed test)\n",
    "    p_value = 2 * (1 - norm.cdf(abs(Z)))\n",
    "    \n",
    "    return p_value\n",
    "\n",
    "\n",
    "n = 1273\n",
    "\n",
    "p_value = stat_test(0.192, n*1, 0.214, n*1)\n",
    "\n",
    "if p_value < 0.001:\n",
    "    # Show the p-value in scientific notation\n",
    "    print(f\"p-value: {p_value:.3e}\")\n",
    "else:\n",
    "    print(f\"p-value: {p_value:.3f}\")\n"
   ]
  },
  {
   "cell_type": "markdown",
   "metadata": {},
   "source": []
  },
  {
   "cell_type": "markdown",
   "metadata": {},
   "source": [
    "    \\texttt{gpt-4-0613}                     & 0.757 & 0.743  & 0.762 & \\\\\n",
    "    \\texttt{mixtral-8x7b-instruct-v0.1}     & 0.531 & 0.497  & 0.463 & \\\\\n",
    "    \\texttt{gpt-3.5-turbo-0613}             & 0.507 & 0.478  & \\textbf{0.486} & \\\\\n",
    "    \\texttt{text-bison-001} (PaLM-2 text)   & N/A & N/A  &  & \\\\\n",
    "    \\texttt{llama-2-70B-chat}               & 0.308 & 0.126  & 0.143 & \\\\\n",
    "    \\texttt{pmc-llama-13b}                  & 0.334 & 0.232  & 0.272 & \\\\"
   ]
  }
 ],
 "metadata": {
  "kernelspec": {
   "display_name": ".venv",
   "language": "python",
   "name": "python3"
  },
  "language_info": {
   "codemirror_mode": {
    "name": "ipython",
    "version": 3
   },
   "file_extension": ".py",
   "mimetype": "text/x-python",
   "name": "python",
   "nbconvert_exporter": "python",
   "pygments_lexer": "ipython3",
   "version": "3.10.12"
  }
 },
 "nbformat": 4,
 "nbformat_minor": 2
}
