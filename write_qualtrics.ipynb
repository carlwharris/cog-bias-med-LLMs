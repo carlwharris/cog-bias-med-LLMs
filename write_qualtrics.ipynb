{
 "cells": [
  {
   "cell_type": "code",
   "execution_count": 1,
   "metadata": {},
   "outputs": [],
   "source": [
    "%load_ext autoreload\n",
    "%autoreload 2"
   ]
  },
  {
   "cell_type": "code",
   "execution_count": 8,
   "metadata": {},
   "outputs": [],
   "source": [
    "f_path = \"/cis/home/charr165/vscode_projects/cog-bias-med-LLMs/data_clean/questions/US/test.jsonl\"\n",
    "\n",
    "# Parse the jsonl file\n",
    "import json\n",
    "import pandas as pd\n",
    "\n",
    "with open(f_path) as f:\n",
    "    data = [json.loads(line) for line in f]\n"
   ]
  },
  {
   "cell_type": "code",
   "execution_count": 27,
   "metadata": {},
   "outputs": [],
   "source": [
    "from med_llm_bias import load_usmle_questions, USMLEQuestionProcessor\n",
    "usmle_sentences = load_usmle_questions()\n"
   ]
  },
  {
   "cell_type": "code",
   "execution_count": 28,
   "metadata": {},
   "outputs": [],
   "source": [
    "bias_type = \"false_consensus\"\n",
    "proc = USMLEQuestionProcessor(None, bias_type)\n",
    "\n",
    "biased_json = data.copy()\n",
    "for i, qa in enumerate(usmle_sentences[:10]):\n",
    "    context, options, answer, answer_option = proc.parse_question(qa)\n",
    "    prompt = proc._bias_prompt(context, options, answer_option)\n",
    "    biased_json[i][\"question\"] = prompt"
   ]
  },
  {
   "cell_type": "code",
   "execution_count": 29,
   "metadata": {},
   "outputs": [],
   "source": [
    "output_file = f\"{bias_type}_questions.txt\"  # Specify the path for the output text file\n",
    "\n",
    "# Write questions to a text file\n",
    "with open(output_file, 'w') as file:\n",
    "    json.dump(biased_json[:100], file, indent=4)"
   ]
  },
  {
   "cell_type": "code",
   "execution_count": null,
   "metadata": {},
   "outputs": [],
   "source": [
    "output_file = \"output_questions.txt\"  # Specify the path for the output text file\n",
    "\n",
    "# Write questions to a text file\n",
    "with open(output_file, 'w') as file:\n",
    "    json.dump(data[:100], file, indent=4)"
   ]
  },
  {
   "cell_type": "code",
   "execution_count": null,
   "metadata": {},
   "outputs": [],
   "source": [
    "def create_question_file(n):\n",
    "    # Base structure of the file\n",
    "    file_content = '[[AdvancedFormat]]\\n\\n[[Block:imported_block2]]\\n\\n'\n",
    "    for i in range(1, n + 1):\n",
    "        ed_vars = (f\"[[ED:Q{i}_q]]\\n\",\n",
    "                     f\"[[ED:Q{i}_A]]\\n\",\n",
    "                     f\"[[ED:Q{i}_B]]\\n\",\n",
    "                     f\"[[ED:Q{i}_C]]\\n\",\n",
    "                     f\"[[ED:Q{i}_D]]\\n\\n\",\n",
    "                     f\"[[ED:Q{i}_meta_info]]\\n\",\n",
    "                     f\"[[ED:Q{i}_manswer_idx]]\\n\\n\"\n",
    "                     )\n",
    "        file_content += ''.join(ed_vars)    \n",
    "\n",
    "    # Generating each question block\n",
    "    for i in range(1, n + 1):\n",
    "        question_block = (\n",
    "            f'[[Question:MC:SingleAnswer:Vertical]]\\n'\n",
    "            f'${{e://Field/Q{i}_q}}\\n'\n",
    "            f'[[Choices]]\\n'\n",
    "            f'${{e://Field/Q{i}_A}}\\n'\n",
    "            f'${{e://Field/Q{i}_B}}\\n'\n",
    "            f'${{e://Field/Q{i}_C}}\\n'\n",
    "            f'${{e://Field/Q{i}_D}}\\n\\n'\n",
    "            f\"[[PageBreak]]\\n\\n\"\n",
    "        )\n",
    "        file_content += question_block\n",
    "\n",
    "    return file_content\n",
    "\n",
    "# Example: Create file content for 5 questions\n",
    "example_content = create_question_file(10)\n",
    "print(example_content)\n",
    "\n",
    "# Write to a file\n",
    "with open('example.txt', 'w') as file:\n",
    "    file.write(example_content)"
   ]
  },
  {
   "cell_type": "markdown",
   "metadata": {},
   "source": []
  },
  {
   "cell_type": "markdown",
   "metadata": {},
   "source": []
  }
 ],
 "metadata": {
  "kernelspec": {
   "display_name": ".venv",
   "language": "python",
   "name": "python3"
  },
  "language_info": {
   "codemirror_mode": {
    "name": "ipython",
    "version": 3
   },
   "file_extension": ".py",
   "mimetype": "text/x-python",
   "name": "python",
   "nbconvert_exporter": "python",
   "pygments_lexer": "ipython3",
   "version": "3.10.12"
  }
 },
 "nbformat": 4,
 "nbformat_minor": 2
}
